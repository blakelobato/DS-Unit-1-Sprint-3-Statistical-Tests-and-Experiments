{
  "nbformat": 4,
  "nbformat_minor": 0,
  "metadata": {
    "colab": {
      "name": "Blake Lobato 133A_Introduction_to_Bayesian_Inference_Assignment.ipynb",
      "provenance": [],
      "collapsed_sections": [],
      "include_colab_link": true
    },
    "kernelspec": {
      "name": "python3",
      "display_name": "Python 3"
    }
  },
  "cells": [
    {
      "cell_type": "markdown",
      "metadata": {
        "id": "view-in-github",
        "colab_type": "text"
      },
      "source": [
        "<a href=\"https://colab.research.google.com/github/blakelobato/DS-Unit-1-Sprint-3-Statistical-Tests-and-Experiments/blob/master/module3-introduction-to-bayesian-inference/Blake_Lobato_133A_Introduction_to_Bayesian_Inference_Assignment.ipynb\" target=\"_parent\"><img src=\"https://colab.research.google.com/assets/colab-badge.svg\" alt=\"Open In Colab\"/></a>"
      ]
    },
    {
      "cell_type": "markdown",
      "metadata": {
        "id": "H7OLbevlbd_Z",
        "colab_type": "text"
      },
      "source": [
        "# Lambda School Data Science Module 133\n",
        "\n",
        "## Introduction to Bayesian Inference\n",
        "\n",
        "\n"
      ]
    },
    {
      "cell_type": "markdown",
      "metadata": {
        "id": "P-DzzRk5bf0z",
        "colab_type": "text"
      },
      "source": [
        "## Assignment - Code it up!\n",
        "\n",
        "Most of the above was pure math - now write Python code to reproduce the results! This is purposefully open ended - you'll have to think about how you should represent probabilities and events. You can and should look things up, and as a stretch goal - refactor your code into helpful reusable functions!\n",
        "\n",
        "Specific goals/targets:\n",
        "\n",
        "1. Write a function `def prob_drunk_given_positive(prob_drunk_prior, prob_positive, prob_positive_drunk)` that reproduces the example from lecture, and use it to calculate and visualize a range of situations\n",
        "2. Explore `scipy.stats.bayes_mvs` - read its documentation, and experiment with it on data you've tested in other ways earlier this week\n",
        "3. Create a visualization comparing the results of a Bayesian approach to a traditional/frequentist approach\n",
        "4. In your own words, summarize the difference between Bayesian and Frequentist statistics\n",
        "\n",
        "If you're unsure where to start, check out [this blog post of Bayes theorem with Python](https://dataconomy.com/2015/02/introduction-to-bayes-theorem-with-python/) - you could and should create something similar!\n",
        "\n",
        "Stretch goals:\n",
        "\n",
        "- Apply a Bayesian technique to a problem you previously worked (in an assignment or project work) on from a frequentist (standard) perspective\n",
        "- Check out [PyMC3](https://docs.pymc.io/) (note this goes beyond hypothesis tests into modeling) - read the guides and work through some examples\n",
        "- Take PyMC3 further - see if you can build something with it!"
      ]
    },
    {
      "cell_type": "code",
      "metadata": {
        "id": "K93ITSZgaFcI",
        "colab_type": "code",
        "colab": {}
      },
      "source": [
        "### YOUR CODE STARTS HERE\n",
        "import numpy as np\n",
        "import pandas as pd\n",
        "import matplotlib.pyplot as plt\n",
        "from scipy.stats import ttest_ind, ttest_ind_from_stats, ttest_rel\n",
        "from scipy import stats\n"
      ],
      "execution_count": 0,
      "outputs": []
    },
    {
      "cell_type": "code",
      "metadata": {
        "id": "mRNe-BcVQWgM",
        "colab_type": "code",
        "colab": {}
      },
      "source": [
        "def bayes(prior,pos, dgp):\n",
        "  numerator = dgp * prior\n",
        "  rate_drunk = 1 - prior\n",
        "  denominator = numerator + (pos*rate_drunk)\n",
        "  return numerator/denominator"
      ],
      "execution_count": 0,
      "outputs": []
    },
    {
      "cell_type": "code",
      "metadata": {
        "id": "MB7muFIWXLsG",
        "colab_type": "code",
        "colab": {}
      },
      "source": [
        "prob_drunkp = .001\n",
        "prob_pos = .08\n",
        "prob_dgp = 1"
      ],
      "execution_count": 0,
      "outputs": []
    },
    {
      "cell_type": "code",
      "metadata": {
        "id": "w-MC-BJGXdKI",
        "colab_type": "code",
        "outputId": "9ac5d58b-1081-44ce-aaa8-55d652b16b85",
        "colab": {
          "base_uri": "https://localhost:8080/",
          "height": 33
        }
      },
      "source": [
        "drunk = bayes(prob_drunkp, prob_pos, prob_dgp)\n",
        "drunk"
      ],
      "execution_count": 5,
      "outputs": [
        {
          "output_type": "execute_result",
          "data": {
            "text/plain": [
              "0.012357884330202669"
            ]
          },
          "metadata": {
            "tags": []
          },
          "execution_count": 5
        }
      ]
    },
    {
      "cell_type": "code",
      "metadata": {
        "id": "v3BuxABMXmAq",
        "colab_type": "code",
        "colab": {}
      },
      "source": [
        "def repeated(prior, pos, dgp, num):\n",
        "  priors = 0\n",
        "  while num > 0:\n",
        "    prior = bayes(prior, pos, dgp)\n",
        "    num -= 1\n",
        "    print(prior)"
      ],
      "execution_count": 0,
      "outputs": []
    },
    {
      "cell_type": "code",
      "metadata": {
        "id": "oMHSzMMNYXTi",
        "colab_type": "code",
        "outputId": "da4c68ab-0b44-4f0d-f0d5-b9b54f364127",
        "colab": {
          "base_uri": "https://localhost:8080/",
          "height": 180
        }
      },
      "source": [
        "repeated(0.001, .08, 1, 10)"
      ],
      "execution_count": 7,
      "outputs": [
        {
          "output_type": "stream",
          "text": [
            "0.012357884330202669\n",
            "0.13525210993291495\n",
            "0.6615996951348605\n",
            "0.9606895076105054\n",
            "0.9967371577896734\n",
            "0.9997381867081508\n",
            "0.9999790498904363\n",
            "0.9999983239589307\n",
            "0.9999998659165077\n",
            "0.9999999892733192\n"
          ],
          "name": "stdout"
        }
      ]
    },
    {
      "cell_type": "markdown",
      "metadata": {
        "id": "btSSHlpxaKQZ",
        "colab_type": "text"
      },
      "source": [
        "# Part 2 \n",
        "\n",
        "Explore scipy.stats.bayes_mvs - read its documentation, and experiment with it on data you've tested in other ways earlier this week"
      ]
    },
    {
      "cell_type": "code",
      "metadata": {
        "id": "lVtq-AamK6YQ",
        "colab_type": "code",
        "colab": {}
      },
      "source": [
        "cols1 = ['Class Name','handicapped-infants','water-project-cost-sharing', 'adoption-of-the-budget-resolution','physician-fee-freeze','el-salvador-aid','religious-groups-in-schools','anti-satellite-test-ban','aid-to-nicaraguan-contras','mx-missile','immigration','synfuels-corporation-cutback','education-spending','superfund-right-to-sue','crime','duty-free-exports','export-administration-act-south-africa']\n"
      ],
      "execution_count": 0,
      "outputs": []
    },
    {
      "cell_type": "code",
      "metadata": {
        "id": "Onyuyv9mK6Vx",
        "colab_type": "code",
        "outputId": "2e23ba60-cec0-44fc-b03c-695c9a935a47",
        "colab": {
          "base_uri": "https://localhost:8080/",
          "height": 260
        }
      },
      "source": [
        "hv = pd.read_csv('https://archive.ics.uci.edu/ml/machine-learning-databases/voting-records/house-votes-84.data', names=cols1)\n",
        "hv.head()"
      ],
      "execution_count": 9,
      "outputs": [
        {
          "output_type": "execute_result",
          "data": {
            "text/html": [
              "<div>\n",
              "<style scoped>\n",
              "    .dataframe tbody tr th:only-of-type {\n",
              "        vertical-align: middle;\n",
              "    }\n",
              "\n",
              "    .dataframe tbody tr th {\n",
              "        vertical-align: top;\n",
              "    }\n",
              "\n",
              "    .dataframe thead th {\n",
              "        text-align: right;\n",
              "    }\n",
              "</style>\n",
              "<table border=\"1\" class=\"dataframe\">\n",
              "  <thead>\n",
              "    <tr style=\"text-align: right;\">\n",
              "      <th></th>\n",
              "      <th>Class Name</th>\n",
              "      <th>handicapped-infants</th>\n",
              "      <th>water-project-cost-sharing</th>\n",
              "      <th>adoption-of-the-budget-resolution</th>\n",
              "      <th>physician-fee-freeze</th>\n",
              "      <th>el-salvador-aid</th>\n",
              "      <th>religious-groups-in-schools</th>\n",
              "      <th>anti-satellite-test-ban</th>\n",
              "      <th>aid-to-nicaraguan-contras</th>\n",
              "      <th>mx-missile</th>\n",
              "      <th>immigration</th>\n",
              "      <th>synfuels-corporation-cutback</th>\n",
              "      <th>education-spending</th>\n",
              "      <th>superfund-right-to-sue</th>\n",
              "      <th>crime</th>\n",
              "      <th>duty-free-exports</th>\n",
              "      <th>export-administration-act-south-africa</th>\n",
              "    </tr>\n",
              "  </thead>\n",
              "  <tbody>\n",
              "    <tr>\n",
              "      <th>0</th>\n",
              "      <td>republican</td>\n",
              "      <td>n</td>\n",
              "      <td>y</td>\n",
              "      <td>n</td>\n",
              "      <td>y</td>\n",
              "      <td>y</td>\n",
              "      <td>y</td>\n",
              "      <td>n</td>\n",
              "      <td>n</td>\n",
              "      <td>n</td>\n",
              "      <td>y</td>\n",
              "      <td>?</td>\n",
              "      <td>y</td>\n",
              "      <td>y</td>\n",
              "      <td>y</td>\n",
              "      <td>n</td>\n",
              "      <td>y</td>\n",
              "    </tr>\n",
              "    <tr>\n",
              "      <th>1</th>\n",
              "      <td>republican</td>\n",
              "      <td>n</td>\n",
              "      <td>y</td>\n",
              "      <td>n</td>\n",
              "      <td>y</td>\n",
              "      <td>y</td>\n",
              "      <td>y</td>\n",
              "      <td>n</td>\n",
              "      <td>n</td>\n",
              "      <td>n</td>\n",
              "      <td>n</td>\n",
              "      <td>n</td>\n",
              "      <td>y</td>\n",
              "      <td>y</td>\n",
              "      <td>y</td>\n",
              "      <td>n</td>\n",
              "      <td>?</td>\n",
              "    </tr>\n",
              "    <tr>\n",
              "      <th>2</th>\n",
              "      <td>democrat</td>\n",
              "      <td>?</td>\n",
              "      <td>y</td>\n",
              "      <td>y</td>\n",
              "      <td>?</td>\n",
              "      <td>y</td>\n",
              "      <td>y</td>\n",
              "      <td>n</td>\n",
              "      <td>n</td>\n",
              "      <td>n</td>\n",
              "      <td>n</td>\n",
              "      <td>y</td>\n",
              "      <td>n</td>\n",
              "      <td>y</td>\n",
              "      <td>y</td>\n",
              "      <td>n</td>\n",
              "      <td>n</td>\n",
              "    </tr>\n",
              "    <tr>\n",
              "      <th>3</th>\n",
              "      <td>democrat</td>\n",
              "      <td>n</td>\n",
              "      <td>y</td>\n",
              "      <td>y</td>\n",
              "      <td>n</td>\n",
              "      <td>?</td>\n",
              "      <td>y</td>\n",
              "      <td>n</td>\n",
              "      <td>n</td>\n",
              "      <td>n</td>\n",
              "      <td>n</td>\n",
              "      <td>y</td>\n",
              "      <td>n</td>\n",
              "      <td>y</td>\n",
              "      <td>n</td>\n",
              "      <td>n</td>\n",
              "      <td>y</td>\n",
              "    </tr>\n",
              "    <tr>\n",
              "      <th>4</th>\n",
              "      <td>democrat</td>\n",
              "      <td>y</td>\n",
              "      <td>y</td>\n",
              "      <td>y</td>\n",
              "      <td>n</td>\n",
              "      <td>y</td>\n",
              "      <td>y</td>\n",
              "      <td>n</td>\n",
              "      <td>n</td>\n",
              "      <td>n</td>\n",
              "      <td>n</td>\n",
              "      <td>y</td>\n",
              "      <td>?</td>\n",
              "      <td>y</td>\n",
              "      <td>y</td>\n",
              "      <td>y</td>\n",
              "      <td>y</td>\n",
              "    </tr>\n",
              "  </tbody>\n",
              "</table>\n",
              "</div>"
            ],
            "text/plain": [
              "   Class Name  ... export-administration-act-south-africa\n",
              "0  republican  ...                                      y\n",
              "1  republican  ...                                      ?\n",
              "2    democrat  ...                                      n\n",
              "3    democrat  ...                                      y\n",
              "4    democrat  ...                                      y\n",
              "\n",
              "[5 rows x 17 columns]"
            ]
          },
          "metadata": {
            "tags": []
          },
          "execution_count": 9
        }
      ]
    },
    {
      "cell_type": "code",
      "metadata": {
        "id": "4YPhhEZhLkax",
        "colab_type": "code",
        "outputId": "93dcd67b-6535-48c5-854d-5dfeeb4d021d",
        "colab": {
          "base_uri": "https://localhost:8080/",
          "height": 260
        }
      },
      "source": [
        "hv = hv.replace('n', 0)\n",
        "hv = hv.replace('y', 1)\n",
        "hv = hv.replace('?', None)\n",
        "hv.head()"
      ],
      "execution_count": 10,
      "outputs": [
        {
          "output_type": "execute_result",
          "data": {
            "text/html": [
              "<div>\n",
              "<style scoped>\n",
              "    .dataframe tbody tr th:only-of-type {\n",
              "        vertical-align: middle;\n",
              "    }\n",
              "\n",
              "    .dataframe tbody tr th {\n",
              "        vertical-align: top;\n",
              "    }\n",
              "\n",
              "    .dataframe thead th {\n",
              "        text-align: right;\n",
              "    }\n",
              "</style>\n",
              "<table border=\"1\" class=\"dataframe\">\n",
              "  <thead>\n",
              "    <tr style=\"text-align: right;\">\n",
              "      <th></th>\n",
              "      <th>Class Name</th>\n",
              "      <th>handicapped-infants</th>\n",
              "      <th>water-project-cost-sharing</th>\n",
              "      <th>adoption-of-the-budget-resolution</th>\n",
              "      <th>physician-fee-freeze</th>\n",
              "      <th>el-salvador-aid</th>\n",
              "      <th>religious-groups-in-schools</th>\n",
              "      <th>anti-satellite-test-ban</th>\n",
              "      <th>aid-to-nicaraguan-contras</th>\n",
              "      <th>mx-missile</th>\n",
              "      <th>immigration</th>\n",
              "      <th>synfuels-corporation-cutback</th>\n",
              "      <th>education-spending</th>\n",
              "      <th>superfund-right-to-sue</th>\n",
              "      <th>crime</th>\n",
              "      <th>duty-free-exports</th>\n",
              "      <th>export-administration-act-south-africa</th>\n",
              "    </tr>\n",
              "  </thead>\n",
              "  <tbody>\n",
              "    <tr>\n",
              "      <th>0</th>\n",
              "      <td>republican</td>\n",
              "      <td>0</td>\n",
              "      <td>1</td>\n",
              "      <td>0</td>\n",
              "      <td>1</td>\n",
              "      <td>1</td>\n",
              "      <td>1</td>\n",
              "      <td>0</td>\n",
              "      <td>0</td>\n",
              "      <td>0</td>\n",
              "      <td>1</td>\n",
              "      <td>?</td>\n",
              "      <td>1</td>\n",
              "      <td>1</td>\n",
              "      <td>1</td>\n",
              "      <td>0</td>\n",
              "      <td>1</td>\n",
              "    </tr>\n",
              "    <tr>\n",
              "      <th>1</th>\n",
              "      <td>republican</td>\n",
              "      <td>0</td>\n",
              "      <td>1</td>\n",
              "      <td>0</td>\n",
              "      <td>1</td>\n",
              "      <td>1</td>\n",
              "      <td>1</td>\n",
              "      <td>0</td>\n",
              "      <td>0</td>\n",
              "      <td>0</td>\n",
              "      <td>0</td>\n",
              "      <td>0</td>\n",
              "      <td>1</td>\n",
              "      <td>1</td>\n",
              "      <td>1</td>\n",
              "      <td>0</td>\n",
              "      <td>1</td>\n",
              "    </tr>\n",
              "    <tr>\n",
              "      <th>2</th>\n",
              "      <td>democrat</td>\n",
              "      <td>0</td>\n",
              "      <td>1</td>\n",
              "      <td>1</td>\n",
              "      <td>1</td>\n",
              "      <td>1</td>\n",
              "      <td>1</td>\n",
              "      <td>0</td>\n",
              "      <td>0</td>\n",
              "      <td>0</td>\n",
              "      <td>0</td>\n",
              "      <td>1</td>\n",
              "      <td>0</td>\n",
              "      <td>1</td>\n",
              "      <td>1</td>\n",
              "      <td>0</td>\n",
              "      <td>0</td>\n",
              "    </tr>\n",
              "    <tr>\n",
              "      <th>3</th>\n",
              "      <td>democrat</td>\n",
              "      <td>0</td>\n",
              "      <td>1</td>\n",
              "      <td>1</td>\n",
              "      <td>0</td>\n",
              "      <td>1</td>\n",
              "      <td>1</td>\n",
              "      <td>0</td>\n",
              "      <td>0</td>\n",
              "      <td>0</td>\n",
              "      <td>0</td>\n",
              "      <td>1</td>\n",
              "      <td>0</td>\n",
              "      <td>1</td>\n",
              "      <td>0</td>\n",
              "      <td>0</td>\n",
              "      <td>1</td>\n",
              "    </tr>\n",
              "    <tr>\n",
              "      <th>4</th>\n",
              "      <td>democrat</td>\n",
              "      <td>1</td>\n",
              "      <td>1</td>\n",
              "      <td>1</td>\n",
              "      <td>0</td>\n",
              "      <td>1</td>\n",
              "      <td>1</td>\n",
              "      <td>0</td>\n",
              "      <td>0</td>\n",
              "      <td>0</td>\n",
              "      <td>0</td>\n",
              "      <td>1</td>\n",
              "      <td>0</td>\n",
              "      <td>1</td>\n",
              "      <td>1</td>\n",
              "      <td>1</td>\n",
              "      <td>1</td>\n",
              "    </tr>\n",
              "  </tbody>\n",
              "</table>\n",
              "</div>"
            ],
            "text/plain": [
              "   Class Name  ... export-administration-act-south-africa\n",
              "0  republican  ...                                      1\n",
              "1  republican  ...                                      1\n",
              "2    democrat  ...                                      0\n",
              "3    democrat  ...                                      1\n",
              "4    democrat  ...                                      1\n",
              "\n",
              "[5 rows x 17 columns]"
            ]
          },
          "metadata": {
            "tags": []
          },
          "execution_count": 10
        }
      ]
    },
    {
      "cell_type": "code",
      "metadata": {
        "id": "4qdMXTQ8dG78",
        "colab_type": "code",
        "colab": {}
      },
      "source": [
        "handicap = hv['handicapped-infants']"
      ],
      "execution_count": 0,
      "outputs": []
    },
    {
      "cell_type": "code",
      "metadata": {
        "id": "VQq7zOuadOno",
        "colab_type": "code",
        "outputId": "88c25197-83d9-4363-e8b5-dd483105a353",
        "colab": {
          "base_uri": "https://localhost:8080/",
          "height": 86
        }
      },
      "source": [
        "stats.bayes_mvs(handicap, alpha=0.9)"
      ],
      "execution_count": 12,
      "outputs": [
        {
          "output_type": "execute_result",
          "data": {
            "text/plain": [
              "(Mean(statistic=0.4413793103448276, minmax=(0.4020899550520905, 0.4806686656375646)),\n",
              " Variance(statistic=0.24827586206896757, minmax=(0.2217984063432448, 0.2773580314098256)),\n",
              " Std_dev(statistic=0.49798461043835224, minmax=(0.470954781633274, 0.5266479197811624)))"
            ]
          },
          "metadata": {
            "tags": []
          },
          "execution_count": 12
        }
      ]
    },
    {
      "cell_type": "code",
      "metadata": {
        "id": "MOjUT1vXLkfX",
        "colab_type": "code",
        "outputId": "5c8b7814-863d-4cb2-f111-dfd0a765505c",
        "colab": {
          "base_uri": "https://localhost:8080/",
          "height": 33
        }
      },
      "source": [
        "dem = hv[hv['Class Name'] == 'democrat']\n",
        "dem.shape"
      ],
      "execution_count": 13,
      "outputs": [
        {
          "output_type": "execute_result",
          "data": {
            "text/plain": [
              "(267, 17)"
            ]
          },
          "metadata": {
            "tags": []
          },
          "execution_count": 13
        }
      ]
    },
    {
      "cell_type": "code",
      "metadata": {
        "id": "9qZ5nhL_afo9",
        "colab_type": "code",
        "outputId": "eac48f0e-e1c7-4f16-9cee-daa33ceba2d8",
        "colab": {
          "base_uri": "https://localhost:8080/",
          "height": 33
        }
      },
      "source": [
        "rep = hv[hv['Class Name'] == 'republican']\n",
        "rep.head()\n",
        "rep.shape"
      ],
      "execution_count": 14,
      "outputs": [
        {
          "output_type": "execute_result",
          "data": {
            "text/plain": [
              "(168, 17)"
            ]
          },
          "metadata": {
            "tags": []
          },
          "execution_count": 14
        }
      ]
    },
    {
      "cell_type": "code",
      "metadata": {
        "id": "-QbrAHKCakZa",
        "colab_type": "code",
        "outputId": "99cb3f30-dd79-4b85-a722-4408ba29a533",
        "colab": {
          "base_uri": "https://localhost:8080/",
          "height": 260
        }
      },
      "source": [
        "dem.head(5)"
      ],
      "execution_count": 15,
      "outputs": [
        {
          "output_type": "execute_result",
          "data": {
            "text/html": [
              "<div>\n",
              "<style scoped>\n",
              "    .dataframe tbody tr th:only-of-type {\n",
              "        vertical-align: middle;\n",
              "    }\n",
              "\n",
              "    .dataframe tbody tr th {\n",
              "        vertical-align: top;\n",
              "    }\n",
              "\n",
              "    .dataframe thead th {\n",
              "        text-align: right;\n",
              "    }\n",
              "</style>\n",
              "<table border=\"1\" class=\"dataframe\">\n",
              "  <thead>\n",
              "    <tr style=\"text-align: right;\">\n",
              "      <th></th>\n",
              "      <th>Class Name</th>\n",
              "      <th>handicapped-infants</th>\n",
              "      <th>water-project-cost-sharing</th>\n",
              "      <th>adoption-of-the-budget-resolution</th>\n",
              "      <th>physician-fee-freeze</th>\n",
              "      <th>el-salvador-aid</th>\n",
              "      <th>religious-groups-in-schools</th>\n",
              "      <th>anti-satellite-test-ban</th>\n",
              "      <th>aid-to-nicaraguan-contras</th>\n",
              "      <th>mx-missile</th>\n",
              "      <th>immigration</th>\n",
              "      <th>synfuels-corporation-cutback</th>\n",
              "      <th>education-spending</th>\n",
              "      <th>superfund-right-to-sue</th>\n",
              "      <th>crime</th>\n",
              "      <th>duty-free-exports</th>\n",
              "      <th>export-administration-act-south-africa</th>\n",
              "    </tr>\n",
              "  </thead>\n",
              "  <tbody>\n",
              "    <tr>\n",
              "      <th>2</th>\n",
              "      <td>democrat</td>\n",
              "      <td>0</td>\n",
              "      <td>1</td>\n",
              "      <td>1</td>\n",
              "      <td>1</td>\n",
              "      <td>1</td>\n",
              "      <td>1</td>\n",
              "      <td>0</td>\n",
              "      <td>0</td>\n",
              "      <td>0</td>\n",
              "      <td>0</td>\n",
              "      <td>1</td>\n",
              "      <td>0</td>\n",
              "      <td>1</td>\n",
              "      <td>1</td>\n",
              "      <td>0</td>\n",
              "      <td>0</td>\n",
              "    </tr>\n",
              "    <tr>\n",
              "      <th>3</th>\n",
              "      <td>democrat</td>\n",
              "      <td>0</td>\n",
              "      <td>1</td>\n",
              "      <td>1</td>\n",
              "      <td>0</td>\n",
              "      <td>1</td>\n",
              "      <td>1</td>\n",
              "      <td>0</td>\n",
              "      <td>0</td>\n",
              "      <td>0</td>\n",
              "      <td>0</td>\n",
              "      <td>1</td>\n",
              "      <td>0</td>\n",
              "      <td>1</td>\n",
              "      <td>0</td>\n",
              "      <td>0</td>\n",
              "      <td>1</td>\n",
              "    </tr>\n",
              "    <tr>\n",
              "      <th>4</th>\n",
              "      <td>democrat</td>\n",
              "      <td>1</td>\n",
              "      <td>1</td>\n",
              "      <td>1</td>\n",
              "      <td>0</td>\n",
              "      <td>1</td>\n",
              "      <td>1</td>\n",
              "      <td>0</td>\n",
              "      <td>0</td>\n",
              "      <td>0</td>\n",
              "      <td>0</td>\n",
              "      <td>1</td>\n",
              "      <td>0</td>\n",
              "      <td>1</td>\n",
              "      <td>1</td>\n",
              "      <td>1</td>\n",
              "      <td>1</td>\n",
              "    </tr>\n",
              "    <tr>\n",
              "      <th>5</th>\n",
              "      <td>democrat</td>\n",
              "      <td>0</td>\n",
              "      <td>1</td>\n",
              "      <td>1</td>\n",
              "      <td>0</td>\n",
              "      <td>1</td>\n",
              "      <td>1</td>\n",
              "      <td>0</td>\n",
              "      <td>0</td>\n",
              "      <td>0</td>\n",
              "      <td>0</td>\n",
              "      <td>0</td>\n",
              "      <td>0</td>\n",
              "      <td>1</td>\n",
              "      <td>1</td>\n",
              "      <td>1</td>\n",
              "      <td>1</td>\n",
              "    </tr>\n",
              "    <tr>\n",
              "      <th>6</th>\n",
              "      <td>democrat</td>\n",
              "      <td>0</td>\n",
              "      <td>1</td>\n",
              "      <td>0</td>\n",
              "      <td>1</td>\n",
              "      <td>1</td>\n",
              "      <td>1</td>\n",
              "      <td>0</td>\n",
              "      <td>0</td>\n",
              "      <td>0</td>\n",
              "      <td>0</td>\n",
              "      <td>0</td>\n",
              "      <td>0</td>\n",
              "      <td>1</td>\n",
              "      <td>1</td>\n",
              "      <td>1</td>\n",
              "      <td>1</td>\n",
              "    </tr>\n",
              "  </tbody>\n",
              "</table>\n",
              "</div>"
            ],
            "text/plain": [
              "  Class Name  ... export-administration-act-south-africa\n",
              "2   democrat  ...                                      0\n",
              "3   democrat  ...                                      1\n",
              "4   democrat  ...                                      1\n",
              "5   democrat  ...                                      1\n",
              "6   democrat  ...                                      1\n",
              "\n",
              "[5 rows x 17 columns]"
            ]
          },
          "metadata": {
            "tags": []
          },
          "execution_count": 15
        }
      ]
    },
    {
      "cell_type": "code",
      "metadata": {
        "id": "UMEuzXkXKu9L",
        "colab_type": "code",
        "colab": {}
      },
      "source": [
        "dem_handicap = dem['handicapped-infants']"
      ],
      "execution_count": 0,
      "outputs": []
    },
    {
      "cell_type": "code",
      "metadata": {
        "id": "ezFF4TXjK4sQ",
        "colab_type": "code",
        "colab": {
          "base_uri": "https://localhost:8080/",
          "height": 33
        },
        "outputId": "560e13d0-674f-442a-92c1-3b9616f41ce9"
      },
      "source": [
        "democrats,_,_ = stats.bayes_mvs(dem_handicap, alpha=0.9)\n",
        "democrats"
      ],
      "execution_count": 36,
      "outputs": [
        {
          "output_type": "execute_result",
          "data": {
            "text/plain": [
              "Mean(statistic=0.599250936329588, minmax=(0.5496554421708969, 0.6488464304882791))"
            ]
          },
          "metadata": {
            "tags": []
          },
          "execution_count": 36
        }
      ]
    },
    {
      "cell_type": "code",
      "metadata": {
        "id": "9JVkg5XLK40N",
        "colab_type": "code",
        "colab": {}
      },
      "source": [
        "rep_handicap = rep['handicapped-infants']"
      ],
      "execution_count": 0,
      "outputs": []
    },
    {
      "cell_type": "code",
      "metadata": {
        "id": "EwBmkbQxK43F",
        "colab_type": "code",
        "colab": {
          "base_uri": "https://localhost:8080/",
          "height": 33
        },
        "outputId": "94ad3480-af64-4288-abf6-e9435dc094f7"
      },
      "source": [
        "republicans,_,_ = stats.bayes_mvs(rep_handicap, alpha=0.9)\n",
        "republicans"
      ],
      "execution_count": 55,
      "outputs": [
        {
          "output_type": "execute_result",
          "data": {
            "text/plain": [
              "Mean(statistic=0.19047619047619047, minmax=(0.1402164687806205, 0.2407359121717604))"
            ]
          },
          "metadata": {
            "tags": []
          },
          "execution_count": 55
        }
      ]
    },
    {
      "cell_type": "code",
      "metadata": {
        "id": "_Fi7JBy_m9lE",
        "colab_type": "code",
        "colab": {
          "base_uri": "https://localhost:8080/",
          "height": 33
        },
        "outputId": "1f311088-25ae-4b93-87ca-fbe4f46a91e7"
      },
      "source": [
        "total,_,_ = stats.bayes_mvs(hv['handicapped-infants'], alpha=.9)\n",
        "total"
      ],
      "execution_count": 24,
      "outputs": [
        {
          "output_type": "execute_result",
          "data": {
            "text/plain": [
              "Mean(statistic=0.4413793103448276, minmax=(0.4020899550520905, 0.4806686656375646))"
            ]
          },
          "metadata": {
            "tags": []
          },
          "execution_count": 24
        }
      ]
    },
    {
      "cell_type": "code",
      "metadata": {
        "id": "mEsAhHxp4QVO",
        "colab_type": "code",
        "colab": {}
      },
      "source": [
        "def confidence_interval(data, alpha=.9):\n",
        "  n = len(data)\n",
        "  mean = sum(data)/n\n",
        "  data = np.array(data)\n",
        "  stderr = stats.sem(data)\n",
        "  t = stats.t.ppf((1 + alpha) / 2.0, n-1)\n",
        "  interval = stderr * t\n",
        "  return (mean , mean-interval, mean+interval)"
      ],
      "execution_count": 0,
      "outputs": []
    },
    {
      "cell_type": "code",
      "metadata": {
        "id": "j5d59qy_4RCU",
        "colab_type": "code",
        "colab": {
          "base_uri": "https://localhost:8080/",
          "height": 33
        },
        "outputId": "60558c82-8ca8-4d28-edaa-3693ad5b9387"
      },
      "source": [
        "confidence_interval(hv['handicapped-infants'],alpha=.9)"
      ],
      "execution_count": 30,
      "outputs": [
        {
          "output_type": "execute_result",
          "data": {
            "text/plain": [
              "(0.4413793103448276, 0.40208995505209055, 0.4806686656375646)"
            ]
          },
          "metadata": {
            "tags": []
          },
          "execution_count": 30
        }
      ]
    },
    {
      "cell_type": "code",
      "metadata": {
        "id": "pdtKNfeM6ZiE",
        "colab_type": "code",
        "colab": {
          "base_uri": "https://localhost:8080/",
          "height": 33
        },
        "outputId": "1dedad3a-0aed-4e45-f081-1d0598b980ba"
      },
      "source": [
        "confidence_interval(dem_handicap, alpha=.9)"
      ],
      "execution_count": 32,
      "outputs": [
        {
          "output_type": "execute_result",
          "data": {
            "text/plain": [
              "(0.599250936329588, 0.549655442170897, 0.6488464304882791)"
            ]
          },
          "metadata": {
            "tags": []
          },
          "execution_count": 32
        }
      ]
    },
    {
      "cell_type": "code",
      "metadata": {
        "id": "AWB6F-_I6iQL",
        "colab_type": "code",
        "colab": {
          "base_uri": "https://localhost:8080/",
          "height": 33
        },
        "outputId": "78e96593-5f8e-4517-cd83-c646a0acf975"
      },
      "source": [
        "confidence_interval(rep_handicap, alpha=.9)"
      ],
      "execution_count": 33,
      "outputs": [
        {
          "output_type": "execute_result",
          "data": {
            "text/plain": [
              "(0.19047619047619047, 0.14021646878062052, 0.2407359121717604)"
            ]
          },
          "metadata": {
            "tags": []
          },
          "execution_count": 33
        }
      ]
    },
    {
      "cell_type": "markdown",
      "metadata": {
        "id": "DNbpK5yaFnKl",
        "colab_type": "text"
      },
      "source": [
        "# Frequentist CI\n",
        "- Democrats [mean: (0.599250936329588, min: 0.549655442170897, max: 0.6488464304882791)]\n",
        "- Republicans [mean: 0.19047619047619047, min: 0.14021646878062052, max: 0.2407359121717604)]\n",
        "- Total Handicapped Infants[mean: (0.4413793103448276, min: 0.40208995505209055, max: 0.4806686656375646)]\n",
        "\n",
        "# Bayesian CI\n",
        "- Democrats: Mean(statistic=0.599250936329588, minmax=(0.5496554421708969, 0.6488464304882791))\n",
        "- Republicans: Mean(statistic=0.19047619047619047, minmax=(0.1402164687806205, 0.2407359121717604))\n",
        "- Total Handicapped Infants: statistic=0.4413793103448276, minmax=(0.4020899550520905, 0.4806686656375646)\n",
        "\n",
        "# Answer\n",
        "\n",
        "Based on the above data, the confidence intervals are the same."
      ]
    },
    {
      "cell_type": "markdown",
      "metadata": {
        "id": "4B2TkuRxFzro",
        "colab_type": "text"
      },
      "source": [
        ""
      ]
    },
    {
      "cell_type": "code",
      "metadata": {
        "id": "4FwN5xpFGVMV",
        "colab_type": "code",
        "colab": {}
      },
      "source": [
        ""
      ],
      "execution_count": 0,
      "outputs": []
    },
    {
      "cell_type": "code",
      "metadata": {
        "id": "C6ozyj6G60X9",
        "colab_type": "code",
        "colab": {
          "base_uri": "https://localhost:8080/",
          "height": 1000
        },
        "outputId": "9ddd54ab-c382-4fb1-e864-5ff41afc2286"
      },
      "source": [
        "plt.hist(dem_handicap, alpha=0.9, density=True)\n",
        "plt.hist(rep_handicap, alpha=0.9, density=True);\n",
        "plt.hist(hv['handicapped-infants'], alpha=0.9, density=True);\n"
      ],
      "execution_count": 40,
      "outputs": [
        {
          "output_type": "execute_result",
          "data": {
            "text/plain": [
              "([array([10.,  0.,  0.,  0.,  0.,  0.,  0.,  0.,  0.,  0.]),\n",
              "  array([10.,  0.,  0.,  0.,  0.,  0.,  0.,  0.,  0.,  0.]),\n",
              "  array([10.,  0.,  0.,  0.,  0.,  0.,  0.,  0.,  0.,  0.]),\n",
              "  array([10.,  0.,  0.,  0.,  0.,  0.,  0.,  0.,  0.,  0.]),\n",
              "  array([ 0.,  0.,  0.,  0.,  0.,  0.,  0.,  0.,  0., 10.]),\n",
              "  array([10.,  0.,  0.,  0.,  0.,  0.,  0.,  0.,  0.,  0.]),\n",
              "  array([10.,  0.,  0.,  0.,  0.,  0.,  0.,  0.,  0.,  0.]),\n",
              "  array([10.,  0.,  0.,  0.,  0.,  0.,  0.,  0.,  0.,  0.]),\n",
              "  array([10.,  0.,  0.,  0.,  0.,  0.,  0.,  0.,  0.,  0.]),\n",
              "  array([ 0.,  0.,  0.,  0.,  0.,  0.,  0.,  0.,  0., 10.]),\n",
              "  array([10.,  0.,  0.,  0.,  0.,  0.,  0.,  0.,  0.,  0.]),\n",
              "  array([10.,  0.,  0.,  0.,  0.,  0.,  0.,  0.,  0.,  0.]),\n",
              "  array([10.,  0.,  0.,  0.,  0.,  0.,  0.,  0.,  0.,  0.]),\n",
              "  array([ 0.,  0.,  0.,  0.,  0.,  0.,  0.,  0.,  0., 10.]),\n",
              "  array([10.,  0.,  0.,  0.,  0.,  0.,  0.,  0.,  0.,  0.]),\n",
              "  array([10.,  0.,  0.,  0.,  0.,  0.,  0.,  0.,  0.,  0.]),\n",
              "  array([ 0.,  0.,  0.,  0.,  0.,  0.,  0.,  0.,  0., 10.]),\n",
              "  array([ 0.,  0.,  0.,  0.,  0.,  0.,  0.,  0.,  0., 10.]),\n",
              "  array([10.,  0.,  0.,  0.,  0.,  0.,  0.,  0.,  0.,  0.]),\n",
              "  array([ 0.,  0.,  0.,  0.,  0.,  0.,  0.,  0.,  0., 10.]),\n",
              "  array([ 0.,  0.,  0.,  0.,  0.,  0.,  0.,  0.,  0., 10.]),\n",
              "  array([ 0.,  0.,  0.,  0.,  0.,  0.,  0.,  0.,  0., 10.]),\n",
              "  array([ 0.,  0.,  0.,  0.,  0.,  0.,  0.,  0.,  0., 10.]),\n",
              "  array([ 0.,  0.,  0.,  0.,  0.,  0.,  0.,  0.,  0., 10.]),\n",
              "  array([ 0.,  0.,  0.,  0.,  0.,  0.,  0.,  0.,  0., 10.]),\n",
              "  array([ 0.,  0.,  0.,  0.,  0.,  0.,  0.,  0.,  0., 10.]),\n",
              "  array([ 0.,  0.,  0.,  0.,  0.,  0.,  0.,  0.,  0., 10.]),\n",
              "  array([ 0.,  0.,  0.,  0.,  0.,  0.,  0.,  0.,  0., 10.]),\n",
              "  array([ 0.,  0.,  0.,  0.,  0.,  0.,  0.,  0.,  0., 10.]),\n",
              "  array([ 0.,  0.,  0.,  0.,  0.,  0.,  0.,  0.,  0., 10.]),\n",
              "  array([10.,  0.,  0.,  0.,  0.,  0.,  0.,  0.,  0.,  0.]),\n",
              "  array([ 0.,  0.,  0.,  0.,  0.,  0.,  0.,  0.,  0., 10.]),\n",
              "  array([ 0.,  0.,  0.,  0.,  0.,  0.,  0.,  0.,  0., 10.]),\n",
              "  array([10.,  0.,  0.,  0.,  0.,  0.,  0.,  0.,  0.,  0.]),\n",
              "  array([ 0.,  0.,  0.,  0.,  0.,  0.,  0.,  0.,  0., 10.]),\n",
              "  array([10.,  0.,  0.,  0.,  0.,  0.,  0.,  0.,  0.,  0.]),\n",
              "  array([ 0.,  0.,  0.,  0.,  0.,  0.,  0.,  0.,  0., 10.]),\n",
              "  array([ 0.,  0.,  0.,  0.,  0.,  0.,  0.,  0.,  0., 10.]),\n",
              "  array([10.,  0.,  0.,  0.,  0.,  0.,  0.,  0.,  0.,  0.]),\n",
              "  array([ 0.,  0.,  0.,  0.,  0.,  0.,  0.,  0.,  0., 10.]),\n",
              "  array([ 0.,  0.,  0.,  0.,  0.,  0.,  0.,  0.,  0., 10.]),\n",
              "  array([ 0.,  0.,  0.,  0.,  0.,  0.,  0.,  0.,  0., 10.]),\n",
              "  array([ 0.,  0.,  0.,  0.,  0.,  0.,  0.,  0.,  0., 10.]),\n",
              "  array([ 0.,  0.,  0.,  0.,  0.,  0.,  0.,  0.,  0., 10.]),\n",
              "  array([ 0.,  0.,  0.,  0.,  0.,  0.,  0.,  0.,  0., 10.]),\n",
              "  array([ 0.,  0.,  0.,  0.,  0.,  0.,  0.,  0.,  0., 10.]),\n",
              "  array([ 0.,  0.,  0.,  0.,  0.,  0.,  0.,  0.,  0., 10.]),\n",
              "  array([ 0.,  0.,  0.,  0.,  0.,  0.,  0.,  0.,  0., 10.]),\n",
              "  array([ 0.,  0.,  0.,  0.,  0.,  0.,  0.,  0.,  0., 10.]),\n",
              "  array([10.,  0.,  0.,  0.,  0.,  0.,  0.,  0.,  0.,  0.]),\n",
              "  array([ 0.,  0.,  0.,  0.,  0.,  0.,  0.,  0.,  0., 10.]),\n",
              "  array([10.,  0.,  0.,  0.,  0.,  0.,  0.,  0.,  0.,  0.]),\n",
              "  array([ 0.,  0.,  0.,  0.,  0.,  0.,  0.,  0.,  0., 10.]),\n",
              "  array([ 0.,  0.,  0.,  0.,  0.,  0.,  0.,  0.,  0., 10.]),\n",
              "  array([ 0.,  0.,  0.,  0.,  0.,  0.,  0.,  0.,  0., 10.]),\n",
              "  array([10.,  0.,  0.,  0.,  0.,  0.,  0.,  0.,  0.,  0.]),\n",
              "  array([10.,  0.,  0.,  0.,  0.,  0.,  0.,  0.,  0.,  0.]),\n",
              "  array([10.,  0.,  0.,  0.,  0.,  0.,  0.,  0.,  0.,  0.]),\n",
              "  array([10.,  0.,  0.,  0.,  0.,  0.,  0.,  0.,  0.,  0.]),\n",
              "  array([10.,  0.,  0.,  0.,  0.,  0.,  0.,  0.,  0.,  0.]),\n",
              "  array([ 0.,  0.,  0.,  0.,  0.,  0.,  0.,  0.,  0., 10.]),\n",
              "  array([10.,  0.,  0.,  0.,  0.,  0.,  0.,  0.,  0.,  0.]),\n",
              "  array([ 0.,  0.,  0.,  0.,  0.,  0.,  0.,  0.,  0., 10.]),\n",
              "  array([ 0.,  0.,  0.,  0.,  0.,  0.,  0.,  0.,  0., 10.]),\n",
              "  array([ 0.,  0.,  0.,  0.,  0.,  0.,  0.,  0.,  0., 10.]),\n",
              "  array([ 0.,  0.,  0.,  0.,  0.,  0.,  0.,  0.,  0., 10.]),\n",
              "  array([10.,  0.,  0.,  0.,  0.,  0.,  0.,  0.,  0.,  0.]),\n",
              "  array([10.,  0.,  0.,  0.,  0.,  0.,  0.,  0.,  0.,  0.]),\n",
              "  array([ 0.,  0.,  0.,  0.,  0.,  0.,  0.,  0.,  0., 10.]),\n",
              "  array([ 0.,  0.,  0.,  0.,  0.,  0.,  0.,  0.,  0., 10.]),\n",
              "  array([ 0.,  0.,  0.,  0.,  0.,  0.,  0.,  0.,  0., 10.]),\n",
              "  array([ 0.,  0.,  0.,  0.,  0.,  0.,  0.,  0.,  0., 10.]),\n",
              "  array([ 0.,  0.,  0.,  0.,  0.,  0.,  0.,  0.,  0., 10.]),\n",
              "  array([ 0.,  0.,  0.,  0.,  0.,  0.,  0.,  0.,  0., 10.]),\n",
              "  array([ 0.,  0.,  0.,  0.,  0.,  0.,  0.,  0.,  0., 10.]),\n",
              "  array([10.,  0.,  0.,  0.,  0.,  0.,  0.,  0.,  0.,  0.]),\n",
              "  array([10.,  0.,  0.,  0.,  0.,  0.,  0.,  0.,  0.,  0.]),\n",
              "  array([10.,  0.,  0.,  0.,  0.,  0.,  0.,  0.,  0.,  0.]),\n",
              "  array([ 0.,  0.,  0.,  0.,  0.,  0.,  0.,  0.,  0., 10.]),\n",
              "  array([10.,  0.,  0.,  0.,  0.,  0.,  0.,  0.,  0.,  0.]),\n",
              "  array([ 0.,  0.,  0.,  0.,  0.,  0.,  0.,  0.,  0., 10.]),\n",
              "  array([ 0.,  0.,  0.,  0.,  0.,  0.,  0.,  0.,  0., 10.]),\n",
              "  array([10.,  0.,  0.,  0.,  0.,  0.,  0.,  0.,  0.,  0.]),\n",
              "  array([10.,  0.,  0.,  0.,  0.,  0.,  0.,  0.,  0.,  0.]),\n",
              "  array([10.,  0.,  0.,  0.,  0.,  0.,  0.,  0.,  0.,  0.]),\n",
              "  array([10.,  0.,  0.,  0.,  0.,  0.,  0.,  0.,  0.,  0.]),\n",
              "  array([10.,  0.,  0.,  0.,  0.,  0.,  0.,  0.,  0.,  0.]),\n",
              "  array([10.,  0.,  0.,  0.,  0.,  0.,  0.,  0.,  0.,  0.]),\n",
              "  array([10.,  0.,  0.,  0.,  0.,  0.,  0.,  0.,  0.,  0.]),\n",
              "  array([10.,  0.,  0.,  0.,  0.,  0.,  0.,  0.,  0.,  0.]),\n",
              "  array([ 0.,  0.,  0.,  0.,  0.,  0.,  0.,  0.,  0., 10.]),\n",
              "  array([ 0.,  0.,  0.,  0.,  0.,  0.,  0.,  0.,  0., 10.]),\n",
              "  array([ 0.,  0.,  0.,  0.,  0.,  0.,  0.,  0.,  0., 10.]),\n",
              "  array([ 0.,  0.,  0.,  0.,  0.,  0.,  0.,  0.,  0., 10.]),\n",
              "  array([ 0.,  0.,  0.,  0.,  0.,  0.,  0.,  0.,  0., 10.]),\n",
              "  array([ 0.,  0.,  0.,  0.,  0.,  0.,  0.,  0.,  0., 10.]),\n",
              "  array([10.,  0.,  0.,  0.,  0.,  0.,  0.,  0.,  0.,  0.]),\n",
              "  array([ 0.,  0.,  0.,  0.,  0.,  0.,  0.,  0.,  0., 10.]),\n",
              "  array([ 0.,  0.,  0.,  0.,  0.,  0.,  0.,  0.,  0., 10.]),\n",
              "  array([10.,  0.,  0.,  0.,  0.,  0.,  0.,  0.,  0.,  0.]),\n",
              "  array([ 0.,  0.,  0.,  0.,  0.,  0.,  0.,  0.,  0., 10.]),\n",
              "  array([ 0.,  0.,  0.,  0.,  0.,  0.,  0.,  0.,  0., 10.]),\n",
              "  array([ 0.,  0.,  0.,  0.,  0.,  0.,  0.,  0.,  0., 10.]),\n",
              "  array([ 0.,  0.,  0.,  0.,  0.,  0.,  0.,  0.,  0., 10.]),\n",
              "  array([ 0.,  0.,  0.,  0.,  0.,  0.,  0.,  0.,  0., 10.]),\n",
              "  array([ 0.,  0.,  0.,  0.,  0.,  0.,  0.,  0.,  0., 10.]),\n",
              "  array([10.,  0.,  0.,  0.,  0.,  0.,  0.,  0.,  0.,  0.]),\n",
              "  array([10.,  0.,  0.,  0.,  0.,  0.,  0.,  0.,  0.,  0.]),\n",
              "  array([ 0.,  0.,  0.,  0.,  0.,  0.,  0.,  0.,  0., 10.]),\n",
              "  array([ 0.,  0.,  0.,  0.,  0.,  0.,  0.,  0.,  0., 10.]),\n",
              "  array([10.,  0.,  0.,  0.,  0.,  0.,  0.,  0.,  0.,  0.]),\n",
              "  array([10.,  0.,  0.,  0.,  0.,  0.,  0.,  0.,  0.,  0.]),\n",
              "  array([10.,  0.,  0.,  0.,  0.,  0.,  0.,  0.,  0.,  0.]),\n",
              "  array([10.,  0.,  0.,  0.,  0.,  0.,  0.,  0.,  0.,  0.]),\n",
              "  array([ 0.,  0.,  0.,  0.,  0.,  0.,  0.,  0.,  0., 10.]),\n",
              "  array([10.,  0.,  0.,  0.,  0.,  0.,  0.,  0.,  0.,  0.]),\n",
              "  array([ 0.,  0.,  0.,  0.,  0.,  0.,  0.,  0.,  0., 10.]),\n",
              "  array([ 0.,  0.,  0.,  0.,  0.,  0.,  0.,  0.,  0., 10.]),\n",
              "  array([10.,  0.,  0.,  0.,  0.,  0.,  0.,  0.,  0.,  0.]),\n",
              "  array([10.,  0.,  0.,  0.,  0.,  0.,  0.,  0.,  0.,  0.]),\n",
              "  array([10.,  0.,  0.,  0.,  0.,  0.,  0.,  0.,  0.,  0.]),\n",
              "  array([10.,  0.,  0.,  0.,  0.,  0.,  0.,  0.,  0.,  0.]),\n",
              "  array([10.,  0.,  0.,  0.,  0.,  0.,  0.,  0.,  0.,  0.]),\n",
              "  array([ 0.,  0.,  0.,  0.,  0.,  0.,  0.,  0.,  0., 10.]),\n",
              "  array([10.,  0.,  0.,  0.,  0.,  0.,  0.,  0.,  0.,  0.]),\n",
              "  array([10.,  0.,  0.,  0.,  0.,  0.,  0.,  0.,  0.,  0.]),\n",
              "  array([10.,  0.,  0.,  0.,  0.,  0.,  0.,  0.,  0.,  0.]),\n",
              "  array([10.,  0.,  0.,  0.,  0.,  0.,  0.,  0.,  0.,  0.]),\n",
              "  array([10.,  0.,  0.,  0.,  0.,  0.,  0.,  0.,  0.,  0.]),\n",
              "  array([10.,  0.,  0.,  0.,  0.,  0.,  0.,  0.,  0.,  0.]),\n",
              "  array([ 0.,  0.,  0.,  0.,  0.,  0.,  0.,  0.,  0., 10.]),\n",
              "  array([10.,  0.,  0.,  0.,  0.,  0.,  0.,  0.,  0.,  0.]),\n",
              "  array([10.,  0.,  0.,  0.,  0.,  0.,  0.,  0.,  0.,  0.]),\n",
              "  array([10.,  0.,  0.,  0.,  0.,  0.,  0.,  0.,  0.,  0.]),\n",
              "  array([10.,  0.,  0.,  0.,  0.,  0.,  0.,  0.,  0.,  0.]),\n",
              "  array([10.,  0.,  0.,  0.,  0.,  0.,  0.,  0.,  0.,  0.]),\n",
              "  array([10.,  0.,  0.,  0.,  0.,  0.,  0.,  0.,  0.,  0.]),\n",
              "  array([10.,  0.,  0.,  0.,  0.,  0.,  0.,  0.,  0.,  0.]),\n",
              "  array([10.,  0.,  0.,  0.,  0.,  0.,  0.,  0.,  0.,  0.]),\n",
              "  array([ 0.,  0.,  0.,  0.,  0.,  0.,  0.,  0.,  0., 10.]),\n",
              "  array([10.,  0.,  0.,  0.,  0.,  0.,  0.,  0.,  0.,  0.]),\n",
              "  array([10.,  0.,  0.,  0.,  0.,  0.,  0.,  0.,  0.,  0.]),\n",
              "  array([10.,  0.,  0.,  0.,  0.,  0.,  0.,  0.,  0.,  0.]),\n",
              "  array([10.,  0.,  0.,  0.,  0.,  0.,  0.,  0.,  0.,  0.]),\n",
              "  array([10.,  0.,  0.,  0.,  0.,  0.,  0.,  0.,  0.,  0.]),\n",
              "  array([10.,  0.,  0.,  0.,  0.,  0.,  0.,  0.,  0.,  0.]),\n",
              "  array([10.,  0.,  0.,  0.,  0.,  0.,  0.,  0.,  0.,  0.]),\n",
              "  array([10.,  0.,  0.,  0.,  0.,  0.,  0.,  0.,  0.,  0.]),\n",
              "  array([10.,  0.,  0.,  0.,  0.,  0.,  0.,  0.,  0.,  0.]),\n",
              "  array([10.,  0.,  0.,  0.,  0.,  0.,  0.,  0.,  0.,  0.]),\n",
              "  array([ 0.,  0.,  0.,  0.,  0.,  0.,  0.,  0.,  0., 10.]),\n",
              "  array([ 0.,  0.,  0.,  0.,  0.,  0.,  0.,  0.,  0., 10.]),\n",
              "  array([10.,  0.,  0.,  0.,  0.,  0.,  0.,  0.,  0.,  0.]),\n",
              "  array([10.,  0.,  0.,  0.,  0.,  0.,  0.,  0.,  0.,  0.]),\n",
              "  array([10.,  0.,  0.,  0.,  0.,  0.,  0.,  0.,  0.,  0.]),\n",
              "  array([ 0.,  0.,  0.,  0.,  0.,  0.,  0.,  0.,  0., 10.]),\n",
              "  array([ 0.,  0.,  0.,  0.,  0.,  0.,  0.,  0.,  0., 10.]),\n",
              "  array([10.,  0.,  0.,  0.,  0.,  0.,  0.,  0.,  0.,  0.]),\n",
              "  array([10.,  0.,  0.,  0.,  0.,  0.,  0.,  0.,  0.,  0.]),\n",
              "  array([10.,  0.,  0.,  0.,  0.,  0.,  0.,  0.,  0.,  0.]),\n",
              "  array([10.,  0.,  0.,  0.,  0.,  0.,  0.,  0.,  0.,  0.]),\n",
              "  array([10.,  0.,  0.,  0.,  0.,  0.,  0.,  0.,  0.,  0.]),\n",
              "  array([10.,  0.,  0.,  0.,  0.,  0.,  0.,  0.,  0.,  0.]),\n",
              "  array([10.,  0.,  0.,  0.,  0.,  0.,  0.,  0.,  0.,  0.]),\n",
              "  array([ 0.,  0.,  0.,  0.,  0.,  0.,  0.,  0.,  0., 10.]),\n",
              "  array([10.,  0.,  0.,  0.,  0.,  0.,  0.,  0.,  0.,  0.]),\n",
              "  array([ 0.,  0.,  0.,  0.,  0.,  0.,  0.,  0.,  0., 10.]),\n",
              "  array([ 0.,  0.,  0.,  0.,  0.,  0.,  0.,  0.,  0., 10.]),\n",
              "  array([10.,  0.,  0.,  0.,  0.,  0.,  0.,  0.,  0.,  0.]),\n",
              "  array([ 0.,  0.,  0.,  0.,  0.,  0.,  0.,  0.,  0., 10.]),\n",
              "  array([ 0.,  0.,  0.,  0.,  0.,  0.,  0.,  0.,  0., 10.]),\n",
              "  array([10.,  0.,  0.,  0.,  0.,  0.,  0.,  0.,  0.,  0.]),\n",
              "  array([10.,  0.,  0.,  0.,  0.,  0.,  0.,  0.,  0.,  0.]),\n",
              "  array([10.,  0.,  0.,  0.,  0.,  0.,  0.,  0.,  0.,  0.]),\n",
              "  array([ 0.,  0.,  0.,  0.,  0.,  0.,  0.,  0.,  0., 10.]),\n",
              "  array([10.,  0.,  0.,  0.,  0.,  0.,  0.,  0.,  0.,  0.]),\n",
              "  array([10.,  0.,  0.,  0.,  0.,  0.,  0.,  0.,  0.,  0.]),\n",
              "  array([10.,  0.,  0.,  0.,  0.,  0.,  0.,  0.,  0.,  0.]),\n",
              "  array([10.,  0.,  0.,  0.,  0.,  0.,  0.,  0.,  0.,  0.]),\n",
              "  array([ 0.,  0.,  0.,  0.,  0.,  0.,  0.,  0.,  0., 10.]),\n",
              "  array([ 0.,  0.,  0.,  0.,  0.,  0.,  0.,  0.,  0., 10.]),\n",
              "  array([10.,  0.,  0.,  0.,  0.,  0.,  0.,  0.,  0.,  0.]),\n",
              "  array([ 0.,  0.,  0.,  0.,  0.,  0.,  0.,  0.,  0., 10.]),\n",
              "  array([ 0.,  0.,  0.,  0.,  0.,  0.,  0.,  0.,  0., 10.]),\n",
              "  array([10.,  0.,  0.,  0.,  0.,  0.,  0.,  0.,  0.,  0.]),\n",
              "  array([ 0.,  0.,  0.,  0.,  0.,  0.,  0.,  0.,  0., 10.]),\n",
              "  array([10.,  0.,  0.,  0.,  0.,  0.,  0.,  0.,  0.,  0.]),\n",
              "  array([ 0.,  0.,  0.,  0.,  0.,  0.,  0.,  0.,  0., 10.]),\n",
              "  array([ 0.,  0.,  0.,  0.,  0.,  0.,  0.,  0.,  0., 10.]),\n",
              "  array([ 0.,  0.,  0.,  0.,  0.,  0.,  0.,  0.,  0., 10.]),\n",
              "  array([10.,  0.,  0.,  0.,  0.,  0.,  0.,  0.,  0.,  0.]),\n",
              "  array([10.,  0.,  0.,  0.,  0.,  0.,  0.,  0.,  0.,  0.]),\n",
              "  array([10.,  0.,  0.,  0.,  0.,  0.,  0.,  0.,  0.,  0.]),\n",
              "  array([10.,  0.,  0.,  0.,  0.,  0.,  0.,  0.,  0.,  0.]),\n",
              "  array([10.,  0.,  0.,  0.,  0.,  0.,  0.,  0.,  0.,  0.]),\n",
              "  array([10.,  0.,  0.,  0.,  0.,  0.,  0.,  0.,  0.,  0.]),\n",
              "  array([10.,  0.,  0.,  0.,  0.,  0.,  0.,  0.,  0.,  0.]),\n",
              "  array([10.,  0.,  0.,  0.,  0.,  0.,  0.,  0.,  0.,  0.]),\n",
              "  array([10.,  0.,  0.,  0.,  0.,  0.,  0.,  0.,  0.,  0.]),\n",
              "  array([ 0.,  0.,  0.,  0.,  0.,  0.,  0.,  0.,  0., 10.]),\n",
              "  array([10.,  0.,  0.,  0.,  0.,  0.,  0.,  0.,  0.,  0.]),\n",
              "  array([ 0.,  0.,  0.,  0.,  0.,  0.,  0.,  0.,  0., 10.]),\n",
              "  array([ 0.,  0.,  0.,  0.,  0.,  0.,  0.,  0.,  0., 10.]),\n",
              "  array([ 0.,  0.,  0.,  0.,  0.,  0.,  0.,  0.,  0., 10.]),\n",
              "  array([10.,  0.,  0.,  0.,  0.,  0.,  0.,  0.,  0.,  0.]),\n",
              "  array([10.,  0.,  0.,  0.,  0.,  0.,  0.,  0.,  0.,  0.]),\n",
              "  array([10.,  0.,  0.,  0.,  0.,  0.,  0.,  0.,  0.,  0.]),\n",
              "  array([ 0.,  0.,  0.,  0.,  0.,  0.,  0.,  0.,  0., 10.]),\n",
              "  array([10.,  0.,  0.,  0.,  0.,  0.,  0.,  0.,  0.,  0.]),\n",
              "  array([ 0.,  0.,  0.,  0.,  0.,  0.,  0.,  0.,  0., 10.]),\n",
              "  array([10.,  0.,  0.,  0.,  0.,  0.,  0.,  0.,  0.,  0.]),\n",
              "  array([10.,  0.,  0.,  0.,  0.,  0.,  0.,  0.,  0.,  0.]),\n",
              "  array([10.,  0.,  0.,  0.,  0.,  0.,  0.,  0.,  0.,  0.]),\n",
              "  array([10.,  0.,  0.,  0.,  0.,  0.,  0.,  0.,  0.,  0.]),\n",
              "  array([ 0.,  0.,  0.,  0.,  0.,  0.,  0.,  0.,  0., 10.]),\n",
              "  array([10.,  0.,  0.,  0.,  0.,  0.,  0.,  0.,  0.,  0.]),\n",
              "  array([ 0.,  0.,  0.,  0.,  0.,  0.,  0.,  0.,  0., 10.]),\n",
              "  array([10.,  0.,  0.,  0.,  0.,  0.,  0.,  0.,  0.,  0.]),\n",
              "  array([ 0.,  0.,  0.,  0.,  0.,  0.,  0.,  0.,  0., 10.]),\n",
              "  array([10.,  0.,  0.,  0.,  0.,  0.,  0.,  0.,  0.,  0.]),\n",
              "  array([10.,  0.,  0.,  0.,  0.,  0.,  0.,  0.,  0.,  0.]),\n",
              "  array([10.,  0.,  0.,  0.,  0.,  0.,  0.,  0.,  0.,  0.]),\n",
              "  array([ 0.,  0.,  0.,  0.,  0.,  0.,  0.,  0.,  0., 10.]),\n",
              "  array([10.,  0.,  0.,  0.,  0.,  0.,  0.,  0.,  0.,  0.]),\n",
              "  array([10.,  0.,  0.,  0.,  0.,  0.,  0.,  0.,  0.,  0.]),\n",
              "  array([10.,  0.,  0.,  0.,  0.,  0.,  0.,  0.,  0.,  0.]),\n",
              "  array([10.,  0.,  0.,  0.,  0.,  0.,  0.,  0.,  0.,  0.]),\n",
              "  array([ 0.,  0.,  0.,  0.,  0.,  0.,  0.,  0.,  0., 10.]),\n",
              "  array([10.,  0.,  0.,  0.,  0.,  0.,  0.,  0.,  0.,  0.]),\n",
              "  array([10.,  0.,  0.,  0.,  0.,  0.,  0.,  0.,  0.,  0.]),\n",
              "  array([10.,  0.,  0.,  0.,  0.,  0.,  0.,  0.,  0.,  0.]),\n",
              "  array([10.,  0.,  0.,  0.,  0.,  0.,  0.,  0.,  0.,  0.]),\n",
              "  array([10.,  0.,  0.,  0.,  0.,  0.,  0.,  0.,  0.,  0.]),\n",
              "  array([10.,  0.,  0.,  0.,  0.,  0.,  0.,  0.,  0.,  0.]),\n",
              "  array([10.,  0.,  0.,  0.,  0.,  0.,  0.,  0.,  0.,  0.]),\n",
              "  array([10.,  0.,  0.,  0.,  0.,  0.,  0.,  0.,  0.,  0.]),\n",
              "  array([10.,  0.,  0.,  0.,  0.,  0.,  0.,  0.,  0.,  0.]),\n",
              "  array([ 0.,  0.,  0.,  0.,  0.,  0.,  0.,  0.,  0., 10.]),\n",
              "  array([ 0.,  0.,  0.,  0.,  0.,  0.,  0.,  0.,  0., 10.]),\n",
              "  array([10.,  0.,  0.,  0.,  0.,  0.,  0.,  0.,  0.,  0.]),\n",
              "  array([10.,  0.,  0.,  0.,  0.,  0.,  0.,  0.,  0.,  0.]),\n",
              "  array([ 0.,  0.,  0.,  0.,  0.,  0.,  0.,  0.,  0., 10.]),\n",
              "  array([10.,  0.,  0.,  0.,  0.,  0.,  0.,  0.,  0.,  0.]),\n",
              "  array([10.,  0.,  0.,  0.,  0.,  0.,  0.,  0.,  0.,  0.]),\n",
              "  array([ 0.,  0.,  0.,  0.,  0.,  0.,  0.,  0.,  0., 10.]),\n",
              "  array([ 0.,  0.,  0.,  0.,  0.,  0.,  0.,  0.,  0., 10.]),\n",
              "  array([10.,  0.,  0.,  0.,  0.,  0.,  0.,  0.,  0.,  0.]),\n",
              "  array([10.,  0.,  0.,  0.,  0.,  0.,  0.,  0.,  0.,  0.]),\n",
              "  array([10.,  0.,  0.,  0.,  0.,  0.,  0.,  0.,  0.,  0.]),\n",
              "  array([ 0.,  0.,  0.,  0.,  0.,  0.,  0.,  0.,  0., 10.]),\n",
              "  array([10.,  0.,  0.,  0.,  0.,  0.,  0.,  0.,  0.,  0.]),\n",
              "  array([10.,  0.,  0.,  0.,  0.,  0.,  0.,  0.,  0.,  0.]),\n",
              "  array([ 0.,  0.,  0.,  0.,  0.,  0.,  0.,  0.,  0., 10.]),\n",
              "  array([10.,  0.,  0.,  0.,  0.,  0.,  0.,  0.,  0.,  0.]),\n",
              "  array([ 0.,  0.,  0.,  0.,  0.,  0.,  0.,  0.,  0., 10.]),\n",
              "  array([ 0.,  0.,  0.,  0.,  0.,  0.,  0.,  0.,  0., 10.]),\n",
              "  array([10.,  0.,  0.,  0.,  0.,  0.,  0.,  0.,  0.,  0.]),\n",
              "  array([10.,  0.,  0.,  0.,  0.,  0.,  0.,  0.,  0.,  0.]),\n",
              "  array([10.,  0.,  0.,  0.,  0.,  0.,  0.,  0.,  0.,  0.]),\n",
              "  array([ 0.,  0.,  0.,  0.,  0.,  0.,  0.,  0.,  0., 10.]),\n",
              "  array([ 0.,  0.,  0.,  0.,  0.,  0.,  0.,  0.,  0., 10.]),\n",
              "  array([ 0.,  0.,  0.,  0.,  0.,  0.,  0.,  0.,  0., 10.]),\n",
              "  array([ 0.,  0.,  0.,  0.,  0.,  0.,  0.,  0.,  0., 10.]),\n",
              "  array([ 0.,  0.,  0.,  0.,  0.,  0.,  0.,  0.,  0., 10.]),\n",
              "  array([ 0.,  0.,  0.,  0.,  0.,  0.,  0.,  0.,  0., 10.]),\n",
              "  array([ 0.,  0.,  0.,  0.,  0.,  0.,  0.,  0.,  0., 10.]),\n",
              "  array([10.,  0.,  0.,  0.,  0.,  0.,  0.,  0.,  0.,  0.]),\n",
              "  array([ 0.,  0.,  0.,  0.,  0.,  0.,  0.,  0.,  0., 10.]),\n",
              "  array([ 0.,  0.,  0.,  0.,  0.,  0.,  0.,  0.,  0., 10.]),\n",
              "  array([ 0.,  0.,  0.,  0.,  0.,  0.,  0.,  0.,  0., 10.]),\n",
              "  array([ 0.,  0.,  0.,  0.,  0.,  0.,  0.,  0.,  0., 10.]),\n",
              "  array([10.,  0.,  0.,  0.,  0.,  0.,  0.,  0.,  0.,  0.]),\n",
              "  array([ 0.,  0.,  0.,  0.,  0.,  0.,  0.,  0.,  0., 10.]),\n",
              "  array([10.,  0.,  0.,  0.,  0.,  0.,  0.,  0.,  0.,  0.]),\n",
              "  array([ 0.,  0.,  0.,  0.,  0.,  0.,  0.,  0.,  0., 10.]),\n",
              "  array([10.,  0.,  0.,  0.,  0.,  0.,  0.,  0.,  0.,  0.]),\n",
              "  array([10.,  0.,  0.,  0.,  0.,  0.,  0.,  0.,  0.,  0.]),\n",
              "  array([10.,  0.,  0.,  0.,  0.,  0.,  0.,  0.,  0.,  0.]),\n",
              "  array([10.,  0.,  0.,  0.,  0.,  0.,  0.,  0.,  0.,  0.]),\n",
              "  array([10.,  0.,  0.,  0.,  0.,  0.,  0.,  0.,  0.,  0.]),\n",
              "  array([10.,  0.,  0.,  0.,  0.,  0.,  0.,  0.,  0.,  0.]),\n",
              "  array([ 0.,  0.,  0.,  0.,  0.,  0.,  0.,  0.,  0., 10.]),\n",
              "  array([ 0.,  0.,  0.,  0.,  0.,  0.,  0.,  0.,  0., 10.]),\n",
              "  array([10.,  0.,  0.,  0.,  0.,  0.,  0.,  0.,  0.,  0.]),\n",
              "  array([10.,  0.,  0.,  0.,  0.,  0.,  0.,  0.,  0.,  0.]),\n",
              "  array([10.,  0.,  0.,  0.,  0.,  0.,  0.,  0.,  0.,  0.]),\n",
              "  array([10.,  0.,  0.,  0.,  0.,  0.,  0.,  0.,  0.,  0.]),\n",
              "  array([ 0.,  0.,  0.,  0.,  0.,  0.,  0.,  0.,  0., 10.]),\n",
              "  array([ 0.,  0.,  0.,  0.,  0.,  0.,  0.,  0.,  0., 10.]),\n",
              "  array([ 0.,  0.,  0.,  0.,  0.,  0.,  0.,  0.,  0., 10.]),\n",
              "  array([ 0.,  0.,  0.,  0.,  0.,  0.,  0.,  0.,  0., 10.]),\n",
              "  array([ 0.,  0.,  0.,  0.,  0.,  0.,  0.,  0.,  0., 10.]),\n",
              "  array([ 0.,  0.,  0.,  0.,  0.,  0.,  0.,  0.,  0., 10.]),\n",
              "  array([ 0.,  0.,  0.,  0.,  0.,  0.,  0.,  0.,  0., 10.]),\n",
              "  array([10.,  0.,  0.,  0.,  0.,  0.,  0.,  0.,  0.,  0.]),\n",
              "  array([10.,  0.,  0.,  0.,  0.,  0.,  0.,  0.,  0.,  0.]),\n",
              "  array([10.,  0.,  0.,  0.,  0.,  0.,  0.,  0.,  0.,  0.]),\n",
              "  array([ 0.,  0.,  0.,  0.,  0.,  0.,  0.,  0.,  0., 10.]),\n",
              "  array([10.,  0.,  0.,  0.,  0.,  0.,  0.,  0.,  0.,  0.]),\n",
              "  array([10.,  0.,  0.,  0.,  0.,  0.,  0.,  0.,  0.,  0.]),\n",
              "  array([10.,  0.,  0.,  0.,  0.,  0.,  0.,  0.,  0.,  0.]),\n",
              "  array([10.,  0.,  0.,  0.,  0.,  0.,  0.,  0.,  0.,  0.]),\n",
              "  array([10.,  0.,  0.,  0.,  0.,  0.,  0.,  0.,  0.,  0.]),\n",
              "  array([10.,  0.,  0.,  0.,  0.,  0.,  0.,  0.,  0.,  0.]),\n",
              "  array([10.,  0.,  0.,  0.,  0.,  0.,  0.,  0.,  0.,  0.]),\n",
              "  array([10.,  0.,  0.,  0.,  0.,  0.,  0.,  0.,  0.,  0.]),\n",
              "  array([10.,  0.,  0.,  0.,  0.,  0.,  0.,  0.,  0.,  0.]),\n",
              "  array([ 0.,  0.,  0.,  0.,  0.,  0.,  0.,  0.,  0., 10.]),\n",
              "  array([10.,  0.,  0.,  0.,  0.,  0.,  0.,  0.,  0.,  0.]),\n",
              "  array([ 0.,  0.,  0.,  0.,  0.,  0.,  0.,  0.,  0., 10.]),\n",
              "  array([10.,  0.,  0.,  0.,  0.,  0.,  0.,  0.,  0.,  0.]),\n",
              "  array([10.,  0.,  0.,  0.,  0.,  0.,  0.,  0.,  0.,  0.]),\n",
              "  array([ 0.,  0.,  0.,  0.,  0.,  0.,  0.,  0.,  0., 10.]),\n",
              "  array([10.,  0.,  0.,  0.,  0.,  0.,  0.,  0.,  0.,  0.]),\n",
              "  array([10.,  0.,  0.,  0.,  0.,  0.,  0.,  0.,  0.,  0.]),\n",
              "  array([10.,  0.,  0.,  0.,  0.,  0.,  0.,  0.,  0.,  0.]),\n",
              "  array([10.,  0.,  0.,  0.,  0.,  0.,  0.,  0.,  0.,  0.]),\n",
              "  array([ 0.,  0.,  0.,  0.,  0.,  0.,  0.,  0.,  0., 10.]),\n",
              "  array([10.,  0.,  0.,  0.,  0.,  0.,  0.,  0.,  0.,  0.]),\n",
              "  array([ 0.,  0.,  0.,  0.,  0.,  0.,  0.,  0.,  0., 10.]),\n",
              "  array([10.,  0.,  0.,  0.,  0.,  0.,  0.,  0.,  0.,  0.]),\n",
              "  array([ 0.,  0.,  0.,  0.,  0.,  0.,  0.,  0.,  0., 10.]),\n",
              "  array([ 0.,  0.,  0.,  0.,  0.,  0.,  0.,  0.,  0., 10.]),\n",
              "  array([ 0.,  0.,  0.,  0.,  0.,  0.,  0.,  0.,  0., 10.]),\n",
              "  array([10.,  0.,  0.,  0.,  0.,  0.,  0.,  0.,  0.,  0.]),\n",
              "  array([10.,  0.,  0.,  0.,  0.,  0.,  0.,  0.,  0.,  0.]),\n",
              "  array([ 0.,  0.,  0.,  0.,  0.,  0.,  0.,  0.,  0., 10.]),\n",
              "  array([10.,  0.,  0.,  0.,  0.,  0.,  0.,  0.,  0.,  0.]),\n",
              "  array([ 0.,  0.,  0.,  0.,  0.,  0.,  0.,  0.,  0., 10.]),\n",
              "  array([ 0.,  0.,  0.,  0.,  0.,  0.,  0.,  0.,  0., 10.]),\n",
              "  array([10.,  0.,  0.,  0.,  0.,  0.,  0.,  0.,  0.,  0.]),\n",
              "  array([ 0.,  0.,  0.,  0.,  0.,  0.,  0.,  0.,  0., 10.]),\n",
              "  array([ 0.,  0.,  0.,  0.,  0.,  0.,  0.,  0.,  0., 10.]),\n",
              "  array([10.,  0.,  0.,  0.,  0.,  0.,  0.,  0.,  0.,  0.]),\n",
              "  array([10.,  0.,  0.,  0.,  0.,  0.,  0.,  0.,  0.,  0.]),\n",
              "  array([10.,  0.,  0.,  0.,  0.,  0.,  0.,  0.,  0.,  0.]),\n",
              "  array([10.,  0.,  0.,  0.,  0.,  0.,  0.,  0.,  0.,  0.]),\n",
              "  array([ 0.,  0.,  0.,  0.,  0.,  0.,  0.,  0.,  0., 10.]),\n",
              "  array([ 0.,  0.,  0.,  0.,  0.,  0.,  0.,  0.,  0., 10.]),\n",
              "  array([ 0.,  0.,  0.,  0.,  0.,  0.,  0.,  0.,  0., 10.]),\n",
              "  array([10.,  0.,  0.,  0.,  0.,  0.,  0.,  0.,  0.,  0.]),\n",
              "  array([10.,  0.,  0.,  0.,  0.,  0.,  0.,  0.,  0.,  0.]),\n",
              "  array([10.,  0.,  0.,  0.,  0.,  0.,  0.,  0.,  0.,  0.]),\n",
              "  array([10.,  0.,  0.,  0.,  0.,  0.,  0.,  0.,  0.,  0.]),\n",
              "  array([10.,  0.,  0.,  0.,  0.,  0.,  0.,  0.,  0.,  0.]),\n",
              "  array([10.,  0.,  0.,  0.,  0.,  0.,  0.,  0.,  0.,  0.]),\n",
              "  array([10.,  0.,  0.,  0.,  0.,  0.,  0.,  0.,  0.,  0.]),\n",
              "  array([ 0.,  0.,  0.,  0.,  0.,  0.,  0.,  0.,  0., 10.]),\n",
              "  array([ 0.,  0.,  0.,  0.,  0.,  0.,  0.,  0.,  0., 10.]),\n",
              "  array([10.,  0.,  0.,  0.,  0.,  0.,  0.,  0.,  0.,  0.]),\n",
              "  array([10.,  0.,  0.,  0.,  0.,  0.,  0.,  0.,  0.,  0.]),\n",
              "  array([10.,  0.,  0.,  0.,  0.,  0.,  0.,  0.,  0.,  0.]),\n",
              "  array([10.,  0.,  0.,  0.,  0.,  0.,  0.,  0.,  0.,  0.]),\n",
              "  array([10.,  0.,  0.,  0.,  0.,  0.,  0.,  0.,  0.,  0.]),\n",
              "  array([10.,  0.,  0.,  0.,  0.,  0.,  0.,  0.,  0.,  0.]),\n",
              "  array([ 0.,  0.,  0.,  0.,  0.,  0.,  0.,  0.,  0., 10.]),\n",
              "  array([10.,  0.,  0.,  0.,  0.,  0.,  0.,  0.,  0.,  0.]),\n",
              "  array([10.,  0.,  0.,  0.,  0.,  0.,  0.,  0.,  0.,  0.]),\n",
              "  array([ 0.,  0.,  0.,  0.,  0.,  0.,  0.,  0.,  0., 10.]),\n",
              "  array([10.,  0.,  0.,  0.,  0.,  0.,  0.,  0.,  0.,  0.]),\n",
              "  array([ 0.,  0.,  0.,  0.,  0.,  0.,  0.,  0.,  0., 10.]),\n",
              "  array([ 0.,  0.,  0.,  0.,  0.,  0.,  0.,  0.,  0., 10.]),\n",
              "  array([ 0.,  0.,  0.,  0.,  0.,  0.,  0.,  0.,  0., 10.]),\n",
              "  array([ 0.,  0.,  0.,  0.,  0.,  0.,  0.,  0.,  0., 10.]),\n",
              "  array([ 0.,  0.,  0.,  0.,  0.,  0.,  0.,  0.,  0., 10.]),\n",
              "  array([10.,  0.,  0.,  0.,  0.,  0.,  0.,  0.,  0.,  0.]),\n",
              "  array([ 0.,  0.,  0.,  0.,  0.,  0.,  0.,  0.,  0., 10.]),\n",
              "  array([ 0.,  0.,  0.,  0.,  0.,  0.,  0.,  0.,  0., 10.]),\n",
              "  array([10.,  0.,  0.,  0.,  0.,  0.,  0.,  0.,  0.,  0.]),\n",
              "  array([10.,  0.,  0.,  0.,  0.,  0.,  0.,  0.,  0.,  0.]),\n",
              "  array([ 0.,  0.,  0.,  0.,  0.,  0.,  0.,  0.,  0., 10.]),\n",
              "  array([ 0.,  0.,  0.,  0.,  0.,  0.,  0.,  0.,  0., 10.]),\n",
              "  array([10.,  0.,  0.,  0.,  0.,  0.,  0.,  0.,  0.,  0.]),\n",
              "  array([10.,  0.,  0.,  0.,  0.,  0.,  0.,  0.,  0.,  0.]),\n",
              "  array([10.,  0.,  0.,  0.,  0.,  0.,  0.,  0.,  0.,  0.]),\n",
              "  array([10.,  0.,  0.,  0.,  0.,  0.,  0.,  0.,  0.,  0.]),\n",
              "  array([ 0.,  0.,  0.,  0.,  0.,  0.,  0.,  0.,  0., 10.]),\n",
              "  array([10.,  0.,  0.,  0.,  0.,  0.,  0.,  0.,  0.,  0.]),\n",
              "  array([10.,  0.,  0.,  0.,  0.,  0.,  0.,  0.,  0.,  0.]),\n",
              "  array([10.,  0.,  0.,  0.,  0.,  0.,  0.,  0.,  0.,  0.]),\n",
              "  array([ 0.,  0.,  0.,  0.,  0.,  0.,  0.,  0.,  0., 10.]),\n",
              "  array([ 0.,  0.,  0.,  0.,  0.,  0.,  0.,  0.,  0., 10.]),\n",
              "  array([ 0.,  0.,  0.,  0.,  0.,  0.,  0.,  0.,  0., 10.]),\n",
              "  array([ 0.,  0.,  0.,  0.,  0.,  0.,  0.,  0.,  0., 10.]),\n",
              "  array([ 0.,  0.,  0.,  0.,  0.,  0.,  0.,  0.,  0., 10.]),\n",
              "  array([ 0.,  0.,  0.,  0.,  0.,  0.,  0.,  0.,  0., 10.]),\n",
              "  array([10.,  0.,  0.,  0.,  0.,  0.,  0.,  0.,  0.,  0.]),\n",
              "  array([ 0.,  0.,  0.,  0.,  0.,  0.,  0.,  0.,  0., 10.]),\n",
              "  array([10.,  0.,  0.,  0.,  0.,  0.,  0.,  0.,  0.,  0.]),\n",
              "  array([ 0.,  0.,  0.,  0.,  0.,  0.,  0.,  0.,  0., 10.]),\n",
              "  array([ 0.,  0.,  0.,  0.,  0.,  0.,  0.,  0.,  0., 10.]),\n",
              "  array([ 0.,  0.,  0.,  0.,  0.,  0.,  0.,  0.,  0., 10.]),\n",
              "  array([ 0.,  0.,  0.,  0.,  0.,  0.,  0.,  0.,  0., 10.]),\n",
              "  array([ 0.,  0.,  0.,  0.,  0.,  0.,  0.,  0.,  0., 10.]),\n",
              "  array([ 0.,  0.,  0.,  0.,  0.,  0.,  0.,  0.,  0., 10.]),\n",
              "  array([ 0.,  0.,  0.,  0.,  0.,  0.,  0.,  0.,  0., 10.]),\n",
              "  array([ 0.,  0.,  0.,  0.,  0.,  0.,  0.,  0.,  0., 10.]),\n",
              "  array([ 0.,  0.,  0.,  0.,  0.,  0.,  0.,  0.,  0., 10.]),\n",
              "  array([10.,  0.,  0.,  0.,  0.,  0.,  0.,  0.,  0.,  0.]),\n",
              "  array([10.,  0.,  0.,  0.,  0.,  0.,  0.,  0.,  0.,  0.]),\n",
              "  array([10.,  0.,  0.,  0.,  0.,  0.,  0.,  0.,  0.,  0.]),\n",
              "  array([10.,  0.,  0.,  0.,  0.,  0.,  0.,  0.,  0.,  0.]),\n",
              "  array([10.,  0.,  0.,  0.,  0.,  0.,  0.,  0.,  0.,  0.]),\n",
              "  array([10.,  0.,  0.,  0.,  0.,  0.,  0.,  0.,  0.,  0.]),\n",
              "  array([ 0.,  0.,  0.,  0.,  0.,  0.,  0.,  0.,  0., 10.]),\n",
              "  array([10.,  0.,  0.,  0.,  0.,  0.,  0.,  0.,  0.,  0.]),\n",
              "  array([ 0.,  0.,  0.,  0.,  0.,  0.,  0.,  0.,  0., 10.]),\n",
              "  array([10.,  0.,  0.,  0.,  0.,  0.,  0.,  0.,  0.,  0.]),\n",
              "  array([ 0.,  0.,  0.,  0.,  0.,  0.,  0.,  0.,  0., 10.]),\n",
              "  array([10.,  0.,  0.,  0.,  0.,  0.,  0.,  0.,  0.,  0.]),\n",
              "  array([10.,  0.,  0.,  0.,  0.,  0.,  0.,  0.,  0.,  0.]),\n",
              "  array([ 0.,  0.,  0.,  0.,  0.,  0.,  0.,  0.,  0., 10.]),\n",
              "  array([10.,  0.,  0.,  0.,  0.,  0.,  0.,  0.,  0.,  0.]),\n",
              "  array([ 0.,  0.,  0.,  0.,  0.,  0.,  0.,  0.,  0., 10.]),\n",
              "  array([ 0.,  0.,  0.,  0.,  0.,  0.,  0.,  0.,  0., 10.]),\n",
              "  array([10.,  0.,  0.,  0.,  0.,  0.,  0.,  0.,  0.,  0.]),\n",
              "  array([ 0.,  0.,  0.,  0.,  0.,  0.,  0.,  0.,  0., 10.]),\n",
              "  array([ 0.,  0.,  0.,  0.,  0.,  0.,  0.,  0.,  0., 10.]),\n",
              "  array([ 0.,  0.,  0.,  0.,  0.,  0.,  0.,  0.,  0., 10.]),\n",
              "  array([ 0.,  0.,  0.,  0.,  0.,  0.,  0.,  0.,  0., 10.]),\n",
              "  array([ 0.,  0.,  0.,  0.,  0.,  0.,  0.,  0.,  0., 10.]),\n",
              "  array([10.,  0.,  0.,  0.,  0.,  0.,  0.,  0.,  0.,  0.]),\n",
              "  array([10.,  0.,  0.,  0.,  0.,  0.,  0.,  0.,  0.,  0.]),\n",
              "  array([10.,  0.,  0.,  0.,  0.,  0.,  0.,  0.,  0.,  0.]),\n",
              "  array([10.,  0.,  0.,  0.,  0.,  0.,  0.,  0.,  0.,  0.]),\n",
              "  array([10.,  0.,  0.,  0.,  0.,  0.,  0.,  0.,  0.,  0.]),\n",
              "  array([ 0.,  0.,  0.,  0.,  0.,  0.,  0.,  0.,  0., 10.]),\n",
              "  array([10.,  0.,  0.,  0.,  0.,  0.,  0.,  0.,  0.,  0.]),\n",
              "  array([10.,  0.,  0.,  0.,  0.,  0.,  0.,  0.,  0.,  0.]),\n",
              "  array([ 0.,  0.,  0.,  0.,  0.,  0.,  0.,  0.,  0., 10.]),\n",
              "  array([10.,  0.,  0.,  0.,  0.,  0.,  0.,  0.,  0.,  0.]),\n",
              "  array([10.,  0.,  0.,  0.,  0.,  0.,  0.,  0.,  0.,  0.]),\n",
              "  array([10.,  0.,  0.,  0.,  0.,  0.,  0.,  0.,  0.,  0.]),\n",
              "  array([10.,  0.,  0.,  0.,  0.,  0.,  0.,  0.,  0.,  0.]),\n",
              "  array([10.,  0.,  0.,  0.,  0.,  0.,  0.,  0.,  0.,  0.])],\n",
              " array([0. , 0.1, 0.2, 0.3, 0.4, 0.5, 0.6, 0.7, 0.8, 0.9, 1. ]),\n",
              " <a list of 435 Lists of Patches objects>)"
            ]
          },
          "metadata": {
            "tags": []
          },
          "execution_count": 40
        },
        {
          "output_type": "display_data",
          "data": {
            "image/png": "[encoded data removed]",
            "text/plain": [
              "<Figure size 432x288 with 1 Axes>"
            ]
          },
          "metadata": {
            "tags": []
          }
        }
      ]
    },
    {
      "cell_type": "code",
      "metadata": {
        "id": "Azl7tHJeEUbZ",
        "colab_type": "code",
        "colab": {
          "base_uri": "https://localhost:8080/",
          "height": 211
        },
        "outputId": "5aa91216-2a59-4269-dc0b-be64286e556f"
      },
      "source": [
        "import pandas as pd\n",
        "from scipy import stats\n",
        "import math\n",
        "import matplotlib.pyplot as plt\n",
        "import numpy as np\n",
        "\n",
        "#Function: CI_prinout, a function that outputs a number overlay expressing a sample's Confidence Interval\n",
        "#Inputs: a dataframe with one column of values. Optional paramater interval for the size of the confidence interval (default is 0.95). Option parameter method that specifies whether the confidence interval will be calculating using the t distribution or a z/normal distribution.\n",
        "#Outputs: a matplotlib text chart with the % confidence interval and the lower and upper bounds\n",
        "def CI_printout(series, interval = 0.95, method = 't'):\n",
        "  mean_val = series.mean()\n",
        "  n = series.count()\n",
        "  stdev = series.std()\n",
        "  mean_ci,_,_= stats.bayes_mvs(rep_handicap, alpha=0.9)\n",
        "  stat = mean_ci.statistic\n",
        "  lower_bound = mean_ci.minmax[0]\n",
        "  upper_bound = mean_ci.minmax[1]\n",
        " \n",
        "  fig = plt.figure()\n",
        "  plt.axis('off')\n",
        "  plt.gcf().set_size_inches(8, 2)\n",
        "  plt.xticks([])\n",
        "  plt.yticks([])\n",
        "\n",
        "  plt.text(.5, .75, str(round(interval * 100))+ '% Confidence Interval', fontsize=25, color='black', ha='center')\n",
        "  plt.text(.5, .35, str(round(lower_bound[0],2)) + ' to ' + str(round(upper_bound[0],2)), fontsize=25, color='black', ha='center')\n",
        "\n",
        "  return plt\n",
        "\n",
        "# Use Periscope to visualize a dataframe or an image by passing data to periscope.output()\n",
        "periscope.output(CI_printout(df))"
      ],
      "execution_count": 90,
      "outputs": [
        {
          "output_type": "error",
          "ename": "NameError",
          "evalue": "ignored",
          "traceback": [
            "\u001b[0;31m---------------------------------------------------------------------------\u001b[0m",
            "\u001b[0;31mNameError\u001b[0m                                 Traceback (most recent call last)",
            "\u001b[0;32m<ipython-input-90-454f77a0ca57>\u001b[0m in \u001b[0;36m<module>\u001b[0;34m()\u001b[0m\n\u001b[1;32m     29\u001b[0m \u001b[0;34m\u001b[0m\u001b[0m\n\u001b[1;32m     30\u001b[0m \u001b[0;31m# Use Periscope to visualize a dataframe or an image by passing data to periscope.output()\u001b[0m\u001b[0;34m\u001b[0m\u001b[0;34m\u001b[0m\u001b[0;34m\u001b[0m\u001b[0m\n\u001b[0;32m---> 31\u001b[0;31m \u001b[0mperiscope\u001b[0m\u001b[0;34m.\u001b[0m\u001b[0moutput\u001b[0m\u001b[0;34m(\u001b[0m\u001b[0mCI_printout\u001b[0m\u001b[0;34m(\u001b[0m\u001b[0mdf\u001b[0m\u001b[0;34m)\u001b[0m\u001b[0;34m)\u001b[0m\u001b[0;34m\u001b[0m\u001b[0;34m\u001b[0m\u001b[0m\n\u001b[0m",
            "\u001b[0;31mNameError\u001b[0m: name 'periscope' is not defined"
          ]
        }
      ]
    },
    {
      "cell_type": "code",
      "metadata": {
        "id": "exHzQnnAEUdz",
        "colab_type": "code",
        "colab": {}
      },
      "source": [
        ""
      ],
      "execution_count": 0,
      "outputs": []
    },
    {
      "cell_type": "code",
      "metadata": {
        "id": "dqXLfWheEUgb",
        "colab_type": "code",
        "colab": {}
      },
      "source": [
        ""
      ],
      "execution_count": 0,
      "outputs": []
    },
    {
      "cell_type": "code",
      "metadata": {
        "id": "r9j52XeCEUkS",
        "colab_type": "code",
        "colab": {}
      },
      "source": [
        ""
      ],
      "execution_count": 0,
      "outputs": []
    },
    {
      "cell_type": "code",
      "metadata": {
        "id": "7xD3kf4lEUmj",
        "colab_type": "code",
        "colab": {}
      },
      "source": [
        ""
      ],
      "execution_count": 0,
      "outputs": []
    },
    {
      "cell_type": "code",
      "metadata": {
        "id": "QebfhRZTEUin",
        "colab_type": "code",
        "colab": {}
      },
      "source": [
        ""
      ],
      "execution_count": 0,
      "outputs": []
    },
    {
      "cell_type": "code",
      "metadata": {
        "id": "P8Z19eoo8xMR",
        "colab_type": "code",
        "colab": {}
      },
      "source": [
        "import matplotlib.pyplot as plt\n",
        "import matplotlib.patches as mpatches\n",
        "from matplotlib.colors import colorConverter as cc\n",
        "import numpy as np"
      ],
      "execution_count": 0,
      "outputs": []
    },
    {
      "cell_type": "code",
      "metadata": {
        "id": "6vYamofy9vym",
        "colab_type": "code",
        "colab": {}
      },
      "source": [
        "def plot_mean_and_CI( mean, lb, ub, color_mean=None, color_shading=None):\n",
        "    # plot the shaded range of the confidence intervals\n",
        "    plt.fill_between(range(mean.shape[0]), ub, lb, color=color_shading, alpha=.5)\n",
        "    # plot the mean on top\n",
        "    plt.plot(mean, color_mean)"
      ],
      "execution_count": 0,
      "outputs": []
    },
    {
      "cell_type": "code",
      "metadata": {
        "id": "Q-8vw4HU_fbm",
        "colab_type": "code",
        "colab": {
          "base_uri": "https://localhost:8080/",
          "height": 243
        },
        "outputId": "9092e6f0-6b89-4b86-fcb7-6d6274de4693"
      },
      "source": [
        "fig = plt.figure(1, figsize=(7, 2.5))\n",
        "plot_mean_and_CI(democrats, democrats.minmax[0], democrats.minmax[1], color_mean='k', color_shading='k')\n",
        "plot_mean_and_CI(republicans, republicans.minmax[0], republicans.minmax[1], color_mean='b', color_shading='b')\n",
        "plot_mean_and_CI(total, total.minmax[0], total.minmax[1], color_mean='g--', color_shading='g')"
      ],
      "execution_count": 87,
      "outputs": [
        {
          "output_type": "error",
          "ename": "TypeError",
          "evalue": "ignored",
          "traceback": [
            "\u001b[0;31m---------------------------------------------------------------------------\u001b[0m",
            "\u001b[0;31mTypeError\u001b[0m                                 Traceback (most recent call last)",
            "\u001b[0;32m<ipython-input-87-5f334aee919d>\u001b[0m in \u001b[0;36m<module>\u001b[0;34m()\u001b[0m\n\u001b[1;32m      1\u001b[0m \u001b[0mfig\u001b[0m \u001b[0;34m=\u001b[0m \u001b[0mplt\u001b[0m\u001b[0;34m.\u001b[0m\u001b[0mfigure\u001b[0m\u001b[0;34m(\u001b[0m\u001b[0;36m1\u001b[0m\u001b[0;34m,\u001b[0m \u001b[0mfigsize\u001b[0m\u001b[0;34m=\u001b[0m\u001b[0;34m(\u001b[0m\u001b[0;36m7\u001b[0m\u001b[0;34m,\u001b[0m \u001b[0;36m2.5\u001b[0m\u001b[0;34m)\u001b[0m\u001b[0;34m)\u001b[0m\u001b[0;34m\u001b[0m\u001b[0;34m\u001b[0m\u001b[0m\n\u001b[0;32m----> 2\u001b[0;31m \u001b[0mplot_mean_and_CI\u001b[0m\u001b[0;34m(\u001b[0m\u001b[0mdemocrats\u001b[0m\u001b[0;34m,\u001b[0m \u001b[0mdemocrats\u001b[0m\u001b[0;34m.\u001b[0m\u001b[0mminmax\u001b[0m\u001b[0;34m[\u001b[0m\u001b[0;36m0\u001b[0m\u001b[0;34m]\u001b[0m\u001b[0;34m,\u001b[0m \u001b[0mdemocrats\u001b[0m\u001b[0;34m.\u001b[0m\u001b[0mminmax\u001b[0m\u001b[0;34m[\u001b[0m\u001b[0;36m1\u001b[0m\u001b[0;34m]\u001b[0m\u001b[0;34m,\u001b[0m \u001b[0mcolor_mean\u001b[0m\u001b[0;34m=\u001b[0m\u001b[0;34m'k'\u001b[0m\u001b[0;34m,\u001b[0m \u001b[0mcolor_shading\u001b[0m\u001b[0;34m=\u001b[0m\u001b[0;34m'k'\u001b[0m\u001b[0;34m)\u001b[0m\u001b[0;34m\u001b[0m\u001b[0;34m\u001b[0m\u001b[0m\n\u001b[0m\u001b[1;32m      3\u001b[0m \u001b[0mplot_mean_and_CI\u001b[0m\u001b[0;34m(\u001b[0m\u001b[0mrepublicans\u001b[0m\u001b[0;34m,\u001b[0m \u001b[0mrepublicans\u001b[0m\u001b[0;34m.\u001b[0m\u001b[0mminmax\u001b[0m\u001b[0;34m[\u001b[0m\u001b[0;36m0\u001b[0m\u001b[0;34m]\u001b[0m\u001b[0;34m,\u001b[0m \u001b[0mrepublicans\u001b[0m\u001b[0;34m.\u001b[0m\u001b[0mminmax\u001b[0m\u001b[0;34m[\u001b[0m\u001b[0;36m1\u001b[0m\u001b[0;34m]\u001b[0m\u001b[0;34m,\u001b[0m \u001b[0mcolor_mean\u001b[0m\u001b[0;34m=\u001b[0m\u001b[0;34m'b'\u001b[0m\u001b[0;34m,\u001b[0m \u001b[0mcolor_shading\u001b[0m\u001b[0;34m=\u001b[0m\u001b[0;34m'b'\u001b[0m\u001b[0;34m)\u001b[0m\u001b[0;34m\u001b[0m\u001b[0;34m\u001b[0m\u001b[0m\n\u001b[1;32m      4\u001b[0m \u001b[0mplot_mean_and_CI\u001b[0m\u001b[0;34m(\u001b[0m\u001b[0mtotal\u001b[0m\u001b[0;34m,\u001b[0m \u001b[0mtotal\u001b[0m\u001b[0;34m.\u001b[0m\u001b[0mminmax\u001b[0m\u001b[0;34m[\u001b[0m\u001b[0;36m0\u001b[0m\u001b[0;34m]\u001b[0m\u001b[0;34m,\u001b[0m \u001b[0mtotal\u001b[0m\u001b[0;34m.\u001b[0m\u001b[0mminmax\u001b[0m\u001b[0;34m[\u001b[0m\u001b[0;36m1\u001b[0m\u001b[0;34m]\u001b[0m\u001b[0;34m,\u001b[0m \u001b[0mcolor_mean\u001b[0m\u001b[0;34m=\u001b[0m\u001b[0;34m'g--'\u001b[0m\u001b[0;34m,\u001b[0m \u001b[0mcolor_shading\u001b[0m\u001b[0;34m=\u001b[0m\u001b[0;34m'g'\u001b[0m\u001b[0;34m)\u001b[0m\u001b[0;34m\u001b[0m\u001b[0;34m\u001b[0m\u001b[0m\n",
            "\u001b[0;31mTypeError\u001b[0m: plot_mean_and_CI() missing 1 required positional argument: 'ub'"
          ]
        },
        {
          "output_type": "display_data",
          "data": {
            "text/plain": [
              "<Figure size 504x180 with 0 Axes>"
            ]
          },
          "metadata": {
            "tags": []
          }
        }
      ]
    },
    {
      "cell_type": "code",
      "metadata": {
        "id": "bj-B8Cg2_bFH",
        "colab_type": "code",
        "colab": {
          "base_uri": "https://localhost:8080/",
          "height": 297
        },
        "outputId": "6ab7a2b5-245a-4b15-e221-fdbd73f705ca"
      },
      "source": [
        "class LegendObject(object):\n",
        "    def __init__(self, facecolor='red', edgecolor='white', dashed=False):\n",
        "        self.facecolor = facecolor\n",
        "        self.edgecolor = edgecolor\n",
        "        self.dashed = dashed\n",
        " \n",
        "    def legend_artist(self, legend, orig_handle, fontsize, handlebox):\n",
        "        x0, y0 = handlebox.xdescent, handlebox.ydescent\n",
        "        width, height = handlebox.width, handlebox.height\n",
        "        patch = mpatches.Rectangle(\n",
        "            # create a rectangle that is filled with color\n",
        "            [x0, y0], width, height, facecolor=self.facecolor,\n",
        "            # and whose edges are the faded color\n",
        "            edgecolor=self.edgecolor, lw=3)\n",
        "        handlebox.add_artist(patch)\n",
        " \n",
        "        # if we're creating the legend for a dashed line,\n",
        "        # manually add the dash in to our rectangle\n",
        "        if self.dashed:\n",
        "            patch1 = mpatches.Rectangle(\n",
        "                [x0 + 2*width/5, y0], width/5, height, facecolor=self.edgecolor,\n",
        "                transform=handlebox.get_transform())\n",
        "            handlebox.add_artist(patch1)\n",
        " \n",
        "        return patch\n",
        " \n",
        "bg = np.array([1, 1, 1])  # background of the legend is white\n",
        "colors = ['black', 'blue', 'green']\n",
        "# with alpha = .5, the faded color is the average of the background and color\n",
        "colors_faded = [(np.array(cc.to_rgb(color)) + bg) / 2.0 for color in colors]\n",
        " \n",
        "plt.legend([0, 1, 2], ['Data 0', 'Data 1', 'Data 2'],\n",
        "           handler_map={\n",
        "               0: LegendObject(colors[0], colors_faded[0]),\n",
        "               1: LegendObject(colors[1], colors_faded[1]),\n",
        "               2: LegendObject(colors[2], colors_faded[2], dashed=True),\n",
        "            })\n",
        " \n",
        "plt.title('Example mean and confidence interval plot')\n",
        "plt.tight_layout()\n",
        "plt.grid()\n",
        "plt.show()"
      ],
      "execution_count": 72,
      "outputs": [
        {
          "output_type": "display_data",
          "data": {
            "image/png": "[encoded data removed]",
            "text/plain": [
              "<Figure size 432x288 with 1 Axes>"
            ]
          },
          "metadata": {
            "tags": []
          }
        }
      ]
    },
    {
      "cell_type": "code",
      "metadata": {
        "id": "j-Eq2DvE-hzK",
        "colab_type": "code",
        "colab": {
          "base_uri": "https://localhost:8080/",
          "height": 180
        },
        "outputId": "a3982a9c-60fa-4196-8e03-da7a0c304972"
      },
      "source": [
        ""
      ],
      "execution_count": 85,
      "outputs": [
        {
          "output_type": "execute_result",
          "data": {
            "text/plain": [
              "array([0.93615505, 0.15638613, 0.18902789, 0.81646079, 0.19093851,\n",
              "       0.67417823, 0.40084809, 0.47127975, 0.12946206, 0.24994993,\n",
              "       0.69388462, 0.30279602, 0.02468434, 0.54496488, 0.11517224,\n",
              "       0.90480099, 0.49923818, 0.61608803, 0.52223422, 0.40478096,\n",
              "       0.69378216, 0.42009418, 0.68894408, 0.97021812, 0.40176724,\n",
              "       0.0646561 , 0.91877819, 0.25254092, 0.7956598 , 0.78742539,\n",
              "       0.15246992, 0.27929458, 0.21703034, 0.78858701, 0.469719  ,\n",
              "       0.54381797, 0.65301644, 0.81042266, 0.26015666, 0.6160821 ,\n",
              "       0.48592942, 0.41975365, 0.39398273, 0.50322589, 0.80292227,\n",
              "       0.65841389, 0.51397356, 0.15757204, 0.38433481, 0.66721796])"
            ]
          },
          "metadata": {
            "tags": []
          },
          "execution_count": 85
        }
      ]
    },
    {
      "cell_type": "markdown",
      "metadata": {
        "id": "uWgWjp3PQ3Sq",
        "colab_type": "text"
      },
      "source": [
        "## Resources"
      ]
    },
    {
      "cell_type": "markdown",
      "metadata": {
        "id": "QRgHqmYIQ9qn",
        "colab_type": "text"
      },
      "source": [
        "- [Worked example of Bayes rule calculation](https://en.wikipedia.org/wiki/Bayes'_theorem#Examples) (helpful as it fully breaks out the denominator)\n",
        "- [Source code for mvsdist in scipy](https://github.com/scipy/scipy/blob/90534919e139d2a81c24bf08341734ff41a3db12/scipy/stats/morestats.py#L139)"
      ]
    }
  ]
}